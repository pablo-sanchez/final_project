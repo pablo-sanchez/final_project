{
 "cells": [
  {
   "cell_type": "markdown",
   "id": "a59505c1",
   "metadata": {},
   "source": [
    "# MODELS"
   ]
  },
  {
   "cell_type": "code",
   "execution_count": 1,
   "id": "1b109b20",
   "metadata": {},
   "outputs": [],
   "source": [
    "import pandas as pd\n",
    "import numpy as np\n",
    "import pickle\n",
    "import yaml\n",
    "import sys\n",
    "import os\n",
    "from sklearn.linear_model import LinearRegression\n",
    "from sklearn.neighbors import KNeighborsRegressor\n",
    "from sklearn.ensemble import GradientBoostingRegressor, RandomForestRegressor\n",
    "from skopt import BayesSearchCV\n",
    "from skopt.space import Real, Categorical, Integer\n",
    "from sklearn.metrics import r2_score, mean_squared_error, mean_absolute_error\n",
    "from sklearn.model_selection import GridSearchCV\n",
    "import shap\n",
    "import seaborn as sns\n",
    "import matplotlib.pyplot as plt"
   ]
  },
  {
   "cell_type": "code",
   "execution_count": 29,
   "id": "9f42aca2",
   "metadata": {},
   "outputs": [],
   "source": [
    "with open(\"../params.yaml\", \"r\") as file:\n",
    "    config = yaml.safe_load(file)\n",
    "\n",
    "sys.path.insert(0, os.path.abspath(config['src']))\n",
    "import functions as fn"
   ]
  },
  {
   "cell_type": "code",
   "execution_count": 3,
   "id": "ee143c7d",
   "metadata": {},
   "outputs": [
    {
     "data": {
      "text/plain": [
       "{'n_neighbors': [2,\n",
       "  3,\n",
       "  4,\n",
       "  5,\n",
       "  6,\n",
       "  7,\n",
       "  8,\n",
       "  9,\n",
       "  10,\n",
       "  11,\n",
       "  12,\n",
       "  13,\n",
       "  14,\n",
       "  15,\n",
       "  16,\n",
       "  17,\n",
       "  18,\n",
       "  19,\n",
       "  20],\n",
       " 'p': [1, 2, 3],\n",
       " 'weights': ['uniform', 'distance']}"
      ]
     },
     "execution_count": 3,
     "metadata": {},
     "output_type": "execute_result"
    }
   ],
   "source": [
    "config['knn']"
   ]
  },
  {
   "cell_type": "code",
   "execution_count": 4,
   "id": "914af3f5",
   "metadata": {},
   "outputs": [],
   "source": [
    "X_train = pd.read_csv(config['data']['cleaned']+'X_train_transformed.csv')\n",
    "X_test = pd.read_csv(config['data']['cleaned']+'X_test_transformed.csv')\n",
    "y_train = pd.read_csv(config['data']['cleaned']+'y_train.csv')\n",
    "y_test = pd.read_csv(config['data']['cleaned']+'y_test.csv')"
   ]
  },
  {
   "cell_type": "markdown",
   "id": "c7bdb70b",
   "metadata": {},
   "source": [
    "## 1.Linear Model"
   ]
  },
  {
   "cell_type": "code",
   "execution_count": 5,
   "id": "fa77b2a3",
   "metadata": {},
   "outputs": [],
   "source": [
    "lm = LinearRegression().fit(X_train, y_train)\n",
    "\n",
    "y_pred_train_lm = lm.predict(X_train)\n",
    "y_pred_test_lm = lm.predict(X_test)\n",
    "\n",
    "with open(config['models']+'LinearRegression.pkl', 'wb') as file:\n",
    "    pickle.dump(lm, file)"
   ]
  },
  {
   "cell_type": "markdown",
   "id": "b3b00691",
   "metadata": {},
   "source": [
    "**The coeficients:**"
   ]
  },
  {
   "cell_type": "code",
   "execution_count": 6,
   "id": "c2a1ab5d",
   "metadata": {},
   "outputs": [
    {
     "data": {
      "text/html": [
       "<div>\n",
       "<style scoped>\n",
       "    .dataframe tbody tr th:only-of-type {\n",
       "        vertical-align: middle;\n",
       "    }\n",
       "\n",
       "    .dataframe tbody tr th {\n",
       "        vertical-align: top;\n",
       "    }\n",
       "\n",
       "    .dataframe thead th {\n",
       "        text-align: right;\n",
       "    }\n",
       "</style>\n",
       "<table border=\"1\" class=\"dataframe\">\n",
       "  <thead>\n",
       "    <tr style=\"text-align: right;\">\n",
       "      <th></th>\n",
       "      <th>factor</th>\n",
       "      <th>coefficient</th>\n",
       "    </tr>\n",
       "  </thead>\n",
       "  <tbody>\n",
       "    <tr>\n",
       "      <th>0</th>\n",
       "      <td>company_age</td>\n",
       "      <td>-36605.22</td>\n",
       "    </tr>\n",
       "    <tr>\n",
       "      <th>1</th>\n",
       "      <td>job_simpl_machine learning engineer</td>\n",
       "      <td>20651.03</td>\n",
       "    </tr>\n",
       "    <tr>\n",
       "      <th>2</th>\n",
       "      <td>job_simpl_data scientist</td>\n",
       "      <td>18999.93</td>\n",
       "    </tr>\n",
       "    <tr>\n",
       "      <th>3</th>\n",
       "      <td>zone_Western</td>\n",
       "      <td>16024.44</td>\n",
       "    </tr>\n",
       "    <tr>\n",
       "      <th>4</th>\n",
       "      <td>sector_Media and Entertaiment</td>\n",
       "      <td>-13457.20</td>\n",
       "    </tr>\n",
       "    <tr>\n",
       "      <th>5</th>\n",
       "      <td>job_simpl_data engineer</td>\n",
       "      <td>11790.51</td>\n",
       "    </tr>\n",
       "    <tr>\n",
       "      <th>6</th>\n",
       "      <td>machine_learning_yn</td>\n",
       "      <td>11742.89</td>\n",
       "    </tr>\n",
       "    <tr>\n",
       "      <th>7</th>\n",
       "      <td>spark_yn</td>\n",
       "      <td>10537.09</td>\n",
       "    </tr>\n",
       "    <tr>\n",
       "      <th>8</th>\n",
       "      <td>sector_Unknown</td>\n",
       "      <td>9203.66</td>\n",
       "    </tr>\n",
       "    <tr>\n",
       "      <th>9</th>\n",
       "      <td>excel_yn</td>\n",
       "      <td>-7160.26</td>\n",
       "    </tr>\n",
       "    <tr>\n",
       "      <th>10</th>\n",
       "      <td>seniority_junior</td>\n",
       "      <td>-6979.49</td>\n",
       "    </tr>\n",
       "    <tr>\n",
       "      <th>11</th>\n",
       "      <td>revenue_Unknown / Non-Applicable</td>\n",
       "      <td>-6841.00</td>\n",
       "    </tr>\n",
       "    <tr>\n",
       "      <th>12</th>\n",
       "      <td>zone_Southern</td>\n",
       "      <td>5088.83</td>\n",
       "    </tr>\n",
       "    <tr>\n",
       "      <th>13</th>\n",
       "      <td>zone_Remote</td>\n",
       "      <td>4983.39</td>\n",
       "    </tr>\n",
       "    <tr>\n",
       "      <th>14</th>\n",
       "      <td>sector_Industry</td>\n",
       "      <td>4981.57</td>\n",
       "    </tr>\n",
       "    <tr>\n",
       "      <th>15</th>\n",
       "      <td>python_yn</td>\n",
       "      <td>4696.96</td>\n",
       "    </tr>\n",
       "    <tr>\n",
       "      <th>16</th>\n",
       "      <td>type_Company - Public</td>\n",
       "      <td>4075.60</td>\n",
       "    </tr>\n",
       "    <tr>\n",
       "      <th>17</th>\n",
       "      <td>zone_Northeastern</td>\n",
       "      <td>3221.44</td>\n",
       "    </tr>\n",
       "    <tr>\n",
       "      <th>18</th>\n",
       "      <td>revenue_$100 million to $1 billion (USD)</td>\n",
       "      <td>3003.28</td>\n",
       "    </tr>\n",
       "    <tr>\n",
       "      <th>19</th>\n",
       "      <td>type_Other institutions</td>\n",
       "      <td>2935.56</td>\n",
       "    </tr>\n",
       "    <tr>\n",
       "      <th>20</th>\n",
       "      <td>sector_Healthcare</td>\n",
       "      <td>-2800.41</td>\n",
       "    </tr>\n",
       "    <tr>\n",
       "      <th>21</th>\n",
       "      <td>size_Medium-sized company</td>\n",
       "      <td>2800.22</td>\n",
       "    </tr>\n",
       "    <tr>\n",
       "      <th>22</th>\n",
       "      <td>revenue_$5 to $100 million (USD)</td>\n",
       "      <td>-2503.58</td>\n",
       "    </tr>\n",
       "    <tr>\n",
       "      <th>23</th>\n",
       "      <td>size_Small company</td>\n",
       "      <td>-2447.32</td>\n",
       "    </tr>\n",
       "    <tr>\n",
       "      <th>24</th>\n",
       "      <td>sector_Financial and housing services</td>\n",
       "      <td>1963.71</td>\n",
       "    </tr>\n",
       "    <tr>\n",
       "      <th>25</th>\n",
       "      <td>azure_yn</td>\n",
       "      <td>1622.17</td>\n",
       "    </tr>\n",
       "    <tr>\n",
       "      <th>26</th>\n",
       "      <td>revenue_Less than $5 million (USD)</td>\n",
       "      <td>1518.27</td>\n",
       "    </tr>\n",
       "    <tr>\n",
       "      <th>27</th>\n",
       "      <td>size_Unknown size</td>\n",
       "      <td>-1484.19</td>\n",
       "    </tr>\n",
       "    <tr>\n",
       "      <th>28</th>\n",
       "      <td>seniority_mid</td>\n",
       "      <td>-1388.73</td>\n",
       "    </tr>\n",
       "    <tr>\n",
       "      <th>29</th>\n",
       "      <td>sector_IT and Telecommunications</td>\n",
       "      <td>922.12</td>\n",
       "    </tr>\n",
       "    <tr>\n",
       "      <th>30</th>\n",
       "      <td>revenue_$10+ billion (USD)</td>\n",
       "      <td>466.94</td>\n",
       "    </tr>\n",
       "    <tr>\n",
       "      <th>31</th>\n",
       "      <td>aws_yn</td>\n",
       "      <td>-395.14</td>\n",
       "    </tr>\n",
       "    <tr>\n",
       "      <th>32</th>\n",
       "      <td>size_Large company</td>\n",
       "      <td>-341.29</td>\n",
       "    </tr>\n",
       "    <tr>\n",
       "      <th>33</th>\n",
       "      <td>sector_Other sectors</td>\n",
       "      <td>296.40</td>\n",
       "    </tr>\n",
       "  </tbody>\n",
       "</table>\n",
       "</div>"
      ],
      "text/plain": [
       "                                      factor  coefficient\n",
       "0                                company_age    -36605.22\n",
       "1        job_simpl_machine learning engineer     20651.03\n",
       "2                   job_simpl_data scientist     18999.93\n",
       "3                               zone_Western     16024.44\n",
       "4              sector_Media and Entertaiment    -13457.20\n",
       "5                    job_simpl_data engineer     11790.51\n",
       "6                        machine_learning_yn     11742.89\n",
       "7                                   spark_yn     10537.09\n",
       "8                             sector_Unknown      9203.66\n",
       "9                                   excel_yn     -7160.26\n",
       "10                          seniority_junior     -6979.49\n",
       "11          revenue_Unknown / Non-Applicable     -6841.00\n",
       "12                             zone_Southern      5088.83\n",
       "13                               zone_Remote      4983.39\n",
       "14                           sector_Industry      4981.57\n",
       "15                                 python_yn      4696.96\n",
       "16                     type_Company - Public      4075.60\n",
       "17                         zone_Northeastern      3221.44\n",
       "18  revenue_$100 million to $1 billion (USD)      3003.28\n",
       "19                   type_Other institutions      2935.56\n",
       "20                         sector_Healthcare     -2800.41\n",
       "21                 size_Medium-sized company      2800.22\n",
       "22          revenue_$5 to $100 million (USD)     -2503.58\n",
       "23                        size_Small company     -2447.32\n",
       "24     sector_Financial and housing services      1963.71\n",
       "25                                  azure_yn      1622.17\n",
       "26        revenue_Less than $5 million (USD)      1518.27\n",
       "27                         size_Unknown size     -1484.19\n",
       "28                             seniority_mid     -1388.73\n",
       "29          sector_IT and Telecommunications       922.12\n",
       "30                revenue_$10+ billion (USD)       466.94\n",
       "31                                    aws_yn      -395.14\n",
       "32                        size_Large company      -341.29\n",
       "33                      sector_Other sectors       296.40"
      ]
     },
     "execution_count": 6,
     "metadata": {},
     "output_type": "execute_result"
    }
   ],
   "source": [
    "coef_list = list(zip(np.abs(lm.coef_[0]).tolist(),lm.coef_[0].tolist(),list(X_train.columns)))\n",
    "coef_list.sort(reverse=True)\n",
    "coef_list = [(item[2], round(item[1],2)) for item in coef_list]\n",
    "pd.DataFrame(coef_list).rename(columns={0:\"factor\",1:'coefficient'})"
   ]
  },
  {
   "cell_type": "markdown",
   "id": "e7575fae",
   "metadata": {},
   "source": [
    "**The intercept:**"
   ]
  },
  {
   "cell_type": "code",
   "execution_count": 7,
   "id": "dbb8d02b",
   "metadata": {},
   "outputs": [
    {
     "name": "stdout",
     "output_type": "stream",
     "text": [
      "The intercept is: 99640.17 \n"
     ]
    }
   ],
   "source": [
    "print(\"The intercept is: {:.2f} \".format(lm.intercept_[0]))"
   ]
  },
  {
   "cell_type": "markdown",
   "id": "ce2fe552",
   "metadata": {},
   "source": [
    "**The performance:**"
   ]
  },
  {
   "cell_type": "code",
   "execution_count": 8,
   "id": "2e323606",
   "metadata": {},
   "outputs": [
    {
     "data": {
      "text/html": [
       "<div>\n",
       "<style scoped>\n",
       "    .dataframe tbody tr th:only-of-type {\n",
       "        vertical-align: middle;\n",
       "    }\n",
       "\n",
       "    .dataframe tbody tr th {\n",
       "        vertical-align: top;\n",
       "    }\n",
       "\n",
       "    .dataframe thead th {\n",
       "        text-align: right;\n",
       "    }\n",
       "</style>\n",
       "<table border=\"1\" class=\"dataframe\">\n",
       "  <thead>\n",
       "    <tr style=\"text-align: right;\">\n",
       "      <th></th>\n",
       "      <th>Error_metric</th>\n",
       "      <th>Train</th>\n",
       "      <th>Test</th>\n",
       "    </tr>\n",
       "  </thead>\n",
       "  <tbody>\n",
       "    <tr>\n",
       "      <th>0</th>\n",
       "      <td>Mean error</td>\n",
       "      <td>0.00</td>\n",
       "      <td>1858.38</td>\n",
       "    </tr>\n",
       "    <tr>\n",
       "      <th>1</th>\n",
       "      <td>Mean absolute error</td>\n",
       "      <td>20974.90</td>\n",
       "      <td>22207.49</td>\n",
       "    </tr>\n",
       "    <tr>\n",
       "      <th>2</th>\n",
       "      <td>Mean squared error</td>\n",
       "      <td>773962633.60</td>\n",
       "      <td>795725108.04</td>\n",
       "    </tr>\n",
       "    <tr>\n",
       "      <th>3</th>\n",
       "      <td>Root mean squared error</td>\n",
       "      <td>27820.18</td>\n",
       "      <td>28208.60</td>\n",
       "    </tr>\n",
       "    <tr>\n",
       "      <th>4</th>\n",
       "      <td>Mean absolute percentual error</td>\n",
       "      <td>22.13</td>\n",
       "      <td>23.13</td>\n",
       "    </tr>\n",
       "    <tr>\n",
       "      <th>5</th>\n",
       "      <td>R2</td>\n",
       "      <td>0.31</td>\n",
       "      <td>0.15</td>\n",
       "    </tr>\n",
       "  </tbody>\n",
       "</table>\n",
       "</div>"
      ],
      "text/plain": [
       "                     Error_metric        Train         Test\n",
       "0                      Mean error         0.00      1858.38\n",
       "1             Mean absolute error     20974.90     22207.49\n",
       "2              Mean squared error 773962633.60 795725108.04\n",
       "3         Root mean squared error     27820.18     28208.60\n",
       "4  Mean absolute percentual error        22.13        23.13\n",
       "5                              R2         0.31         0.15"
      ]
     },
     "execution_count": 8,
     "metadata": {},
     "output_type": "execute_result"
    }
   ],
   "source": [
    "y_train_performance_lm = np.array(y_train).reshape(-1,1)\n",
    "y_test_performance_lm  = np.array(y_test).reshape(-1,1)\n",
    "\n",
    "results, df1, df2 = fn.model_performance(y_train_performance_lm, y_pred_train_lm, y_test_performance_lm, y_pred_test_lm)\n",
    "results"
   ]
  },
  {
   "cell_type": "markdown",
   "id": "5db4c674",
   "metadata": {},
   "source": [
    "## 2.Key Nearest Neightbors (KNN)"
   ]
  },
  {
   "cell_type": "markdown",
   "id": "81abd5f8",
   "metadata": {},
   "source": [
    "### 2.1.Bayes Search of KNN"
   ]
  },
  {
   "cell_type": "code",
   "execution_count": 9,
   "id": "0d58df49",
   "metadata": {
    "scrolled": true
   },
   "outputs": [
    {
     "name": "stdout",
     "output_type": "stream",
     "text": [
      "Fitting 5 folds for each of 1 candidates, totalling 5 fits\n",
      "Fitting 5 folds for each of 1 candidates, totalling 5 fits\n",
      "Fitting 5 folds for each of 1 candidates, totalling 5 fits\n",
      "Fitting 5 folds for each of 1 candidates, totalling 5 fits\n",
      "Fitting 5 folds for each of 1 candidates, totalling 5 fits\n",
      "Fitting 5 folds for each of 1 candidates, totalling 5 fits\n",
      "Fitting 5 folds for each of 1 candidates, totalling 5 fits\n",
      "Fitting 5 folds for each of 1 candidates, totalling 5 fits\n",
      "Fitting 5 folds for each of 1 candidates, totalling 5 fits\n",
      "Fitting 5 folds for each of 1 candidates, totalling 5 fits\n",
      "Fitting 5 folds for each of 1 candidates, totalling 5 fits\n",
      "Fitting 5 folds for each of 1 candidates, totalling 5 fits\n",
      "Fitting 5 folds for each of 1 candidates, totalling 5 fits\n",
      "Fitting 5 folds for each of 1 candidates, totalling 5 fits\n",
      "Fitting 5 folds for each of 1 candidates, totalling 5 fits\n",
      "Fitting 5 folds for each of 1 candidates, totalling 5 fits\n",
      "Fitting 5 folds for each of 1 candidates, totalling 5 fits\n",
      "Fitting 5 folds for each of 1 candidates, totalling 5 fits\n",
      "Fitting 5 folds for each of 1 candidates, totalling 5 fits\n",
      "Fitting 5 folds for each of 1 candidates, totalling 5 fits\n",
      "Fitting 5 folds for each of 1 candidates, totalling 5 fits\n",
      "Fitting 5 folds for each of 1 candidates, totalling 5 fits\n",
      "Fitting 5 folds for each of 1 candidates, totalling 5 fits\n",
      "Fitting 5 folds for each of 1 candidates, totalling 5 fits\n",
      "Fitting 5 folds for each of 1 candidates, totalling 5 fits\n",
      "Fitting 5 folds for each of 1 candidates, totalling 5 fits\n",
      "Fitting 5 folds for each of 1 candidates, totalling 5 fits\n",
      "Fitting 5 folds for each of 1 candidates, totalling 5 fits\n",
      "Fitting 5 folds for each of 1 candidates, totalling 5 fits\n",
      "Fitting 5 folds for each of 1 candidates, totalling 5 fits\n",
      "Fitting 5 folds for each of 1 candidates, totalling 5 fits\n",
      "Fitting 5 folds for each of 1 candidates, totalling 5 fits\n",
      "Fitting 5 folds for each of 1 candidates, totalling 5 fits\n",
      "Fitting 5 folds for each of 1 candidates, totalling 5 fits\n",
      "Fitting 5 folds for each of 1 candidates, totalling 5 fits\n",
      "Fitting 5 folds for each of 1 candidates, totalling 5 fits\n",
      "Fitting 5 folds for each of 1 candidates, totalling 5 fits\n",
      "Fitting 5 folds for each of 1 candidates, totalling 5 fits\n",
      "Fitting 5 folds for each of 1 candidates, totalling 5 fits\n",
      "Fitting 5 folds for each of 1 candidates, totalling 5 fits\n",
      "Fitting 5 folds for each of 1 candidates, totalling 5 fits\n",
      "Fitting 5 folds for each of 1 candidates, totalling 5 fits\n",
      "Fitting 5 folds for each of 1 candidates, totalling 5 fits\n",
      "Fitting 5 folds for each of 1 candidates, totalling 5 fits\n"
     ]
    },
    {
     "name": "stderr",
     "output_type": "stream",
     "text": [
      "The objective has been evaluated at this point before.\n"
     ]
    },
    {
     "name": "stdout",
     "output_type": "stream",
     "text": [
      "Fitting 5 folds for each of 1 candidates, totalling 5 fits\n",
      "Fitting 5 folds for each of 1 candidates, totalling 5 fits\n"
     ]
    },
    {
     "name": "stderr",
     "output_type": "stream",
     "text": [
      "The objective has been evaluated at this point before.\n"
     ]
    },
    {
     "name": "stdout",
     "output_type": "stream",
     "text": [
      "Fitting 5 folds for each of 1 candidates, totalling 5 fits\n",
      "Fitting 5 folds for each of 1 candidates, totalling 5 fits\n",
      "Fitting 5 folds for each of 1 candidates, totalling 5 fits\n"
     ]
    },
    {
     "name": "stderr",
     "output_type": "stream",
     "text": [
      "The objective has been evaluated at this point before.\n"
     ]
    },
    {
     "name": "stdout",
     "output_type": "stream",
     "text": [
      "Fitting 5 folds for each of 1 candidates, totalling 5 fits\n"
     ]
    }
   ],
   "source": [
    "bayes_knn = BayesSearchCV(KNeighborsRegressor(),config['knn'],cv= config['cv'],n_jobs= config['n_jobs'],\n",
    "                           random_state = config['random_state'],verbose= config['verbose']).fit(X_train, y_train)"
   ]
  },
  {
   "cell_type": "code",
   "execution_count": 15,
   "id": "f2c7c6cd",
   "metadata": {},
   "outputs": [
    {
     "data": {
      "text/html": [
       "<style>#sk-container-id-1 {color: black;background-color: white;}#sk-container-id-1 pre{padding: 0;}#sk-container-id-1 div.sk-toggleable {background-color: white;}#sk-container-id-1 label.sk-toggleable__label {cursor: pointer;display: block;width: 100%;margin-bottom: 0;padding: 0.3em;box-sizing: border-box;text-align: center;}#sk-container-id-1 label.sk-toggleable__label-arrow:before {content: \"▸\";float: left;margin-right: 0.25em;color: #696969;}#sk-container-id-1 label.sk-toggleable__label-arrow:hover:before {color: black;}#sk-container-id-1 div.sk-estimator:hover label.sk-toggleable__label-arrow:before {color: black;}#sk-container-id-1 div.sk-toggleable__content {max-height: 0;max-width: 0;overflow: hidden;text-align: left;background-color: #f0f8ff;}#sk-container-id-1 div.sk-toggleable__content pre {margin: 0.2em;color: black;border-radius: 0.25em;background-color: #f0f8ff;}#sk-container-id-1 input.sk-toggleable__control:checked~div.sk-toggleable__content {max-height: 200px;max-width: 100%;overflow: auto;}#sk-container-id-1 input.sk-toggleable__control:checked~label.sk-toggleable__label-arrow:before {content: \"▾\";}#sk-container-id-1 div.sk-estimator input.sk-toggleable__control:checked~label.sk-toggleable__label {background-color: #d4ebff;}#sk-container-id-1 div.sk-label input.sk-toggleable__control:checked~label.sk-toggleable__label {background-color: #d4ebff;}#sk-container-id-1 input.sk-hidden--visually {border: 0;clip: rect(1px 1px 1px 1px);clip: rect(1px, 1px, 1px, 1px);height: 1px;margin: -1px;overflow: hidden;padding: 0;position: absolute;width: 1px;}#sk-container-id-1 div.sk-estimator {font-family: monospace;background-color: #f0f8ff;border: 1px dotted black;border-radius: 0.25em;box-sizing: border-box;margin-bottom: 0.5em;}#sk-container-id-1 div.sk-estimator:hover {background-color: #d4ebff;}#sk-container-id-1 div.sk-parallel-item::after {content: \"\";width: 100%;border-bottom: 1px solid gray;flex-grow: 1;}#sk-container-id-1 div.sk-label:hover label.sk-toggleable__label {background-color: #d4ebff;}#sk-container-id-1 div.sk-serial::before {content: \"\";position: absolute;border-left: 1px solid gray;box-sizing: border-box;top: 0;bottom: 0;left: 50%;z-index: 0;}#sk-container-id-1 div.sk-serial {display: flex;flex-direction: column;align-items: center;background-color: white;padding-right: 0.2em;padding-left: 0.2em;position: relative;}#sk-container-id-1 div.sk-item {position: relative;z-index: 1;}#sk-container-id-1 div.sk-parallel {display: flex;align-items: stretch;justify-content: center;background-color: white;position: relative;}#sk-container-id-1 div.sk-item::before, #sk-container-id-1 div.sk-parallel-item::before {content: \"\";position: absolute;border-left: 1px solid gray;box-sizing: border-box;top: 0;bottom: 0;left: 50%;z-index: -1;}#sk-container-id-1 div.sk-parallel-item {display: flex;flex-direction: column;z-index: 1;position: relative;background-color: white;}#sk-container-id-1 div.sk-parallel-item:first-child::after {align-self: flex-end;width: 50%;}#sk-container-id-1 div.sk-parallel-item:last-child::after {align-self: flex-start;width: 50%;}#sk-container-id-1 div.sk-parallel-item:only-child::after {width: 0;}#sk-container-id-1 div.sk-dashed-wrapped {border: 1px dashed gray;margin: 0 0.4em 0.5em 0.4em;box-sizing: border-box;padding-bottom: 0.4em;background-color: white;}#sk-container-id-1 div.sk-label label {font-family: monospace;font-weight: bold;display: inline-block;line-height: 1.2em;}#sk-container-id-1 div.sk-label-container {text-align: center;}#sk-container-id-1 div.sk-container {/* jupyter's `normalize.less` sets `[hidden] { display: none; }` but bootstrap.min.css set `[hidden] { display: none !important; }` so we also need the `!important` here to be able to override the default hidden behavior on the sphinx rendered scikit-learn.org. See: https://github.com/scikit-learn/scikit-learn/issues/21755 */display: inline-block !important;position: relative;}#sk-container-id-1 div.sk-text-repr-fallback {display: none;}</style><div id=\"sk-container-id-1\" class=\"sk-top-container\"><div class=\"sk-text-repr-fallback\"><pre>KNeighborsRegressor(n_neighbors=17, p=1, weights=&#x27;distance&#x27;)</pre><b>In a Jupyter environment, please rerun this cell to show the HTML representation or trust the notebook. <br />On GitHub, the HTML representation is unable to render, please try loading this page with nbviewer.org.</b></div><div class=\"sk-container\" hidden><div class=\"sk-item\"><div class=\"sk-estimator sk-toggleable\"><input class=\"sk-toggleable__control sk-hidden--visually\" id=\"sk-estimator-id-1\" type=\"checkbox\" checked><label for=\"sk-estimator-id-1\" class=\"sk-toggleable__label sk-toggleable__label-arrow\">KNeighborsRegressor</label><div class=\"sk-toggleable__content\"><pre>KNeighborsRegressor(n_neighbors=17, p=1, weights=&#x27;distance&#x27;)</pre></div></div></div></div></div>"
      ],
      "text/plain": [
       "KNeighborsRegressor(n_neighbors=17, p=1, weights='distance')"
      ]
     },
     "execution_count": 15,
     "metadata": {},
     "output_type": "execute_result"
    }
   ],
   "source": [
    "knn_bayes = bayes_knn.best_estimator_\n",
    "knn_bayes"
   ]
  },
  {
   "cell_type": "code",
   "execution_count": 16,
   "id": "77e0c054",
   "metadata": {},
   "outputs": [],
   "source": [
    "with open(config['models']+'top_model_KNN_with_bayes.pkl', 'wb') as file:\n",
    "    pickle.dump(knn_bayes, file)"
   ]
  },
  {
   "cell_type": "markdown",
   "id": "649ab4f5",
   "metadata": {},
   "source": [
    "### Testing performance of  KNN with Bayes Search"
   ]
  },
  {
   "cell_type": "code",
   "execution_count": 11,
   "id": "b9f219e6",
   "metadata": {},
   "outputs": [],
   "source": [
    "y_pred_train_knn_bayes = knn_bayes.predict(X_train)\n",
    "y_pred_test_knn_bayes = knn_bayes.predict(X_test)"
   ]
  },
  {
   "cell_type": "code",
   "execution_count": 12,
   "id": "fe105fff",
   "metadata": {},
   "outputs": [
    {
     "data": {
      "text/html": [
       "<div>\n",
       "<style scoped>\n",
       "    .dataframe tbody tr th:only-of-type {\n",
       "        vertical-align: middle;\n",
       "    }\n",
       "\n",
       "    .dataframe tbody tr th {\n",
       "        vertical-align: top;\n",
       "    }\n",
       "\n",
       "    .dataframe thead th {\n",
       "        text-align: right;\n",
       "    }\n",
       "</style>\n",
       "<table border=\"1\" class=\"dataframe\">\n",
       "  <thead>\n",
       "    <tr style=\"text-align: right;\">\n",
       "      <th></th>\n",
       "      <th>Error_metric</th>\n",
       "      <th>Train</th>\n",
       "      <th>Test</th>\n",
       "    </tr>\n",
       "  </thead>\n",
       "  <tbody>\n",
       "    <tr>\n",
       "      <th>0</th>\n",
       "      <td>Mean error</td>\n",
       "      <td>0.00</td>\n",
       "      <td>2458.72</td>\n",
       "    </tr>\n",
       "    <tr>\n",
       "      <th>1</th>\n",
       "      <td>Mean absolute error</td>\n",
       "      <td>0.00</td>\n",
       "      <td>23191.35</td>\n",
       "    </tr>\n",
       "    <tr>\n",
       "      <th>2</th>\n",
       "      <td>Mean squared error</td>\n",
       "      <td>0.00</td>\n",
       "      <td>839995477.09</td>\n",
       "    </tr>\n",
       "    <tr>\n",
       "      <th>3</th>\n",
       "      <td>Root mean squared error</td>\n",
       "      <td>0.00</td>\n",
       "      <td>28982.68</td>\n",
       "    </tr>\n",
       "    <tr>\n",
       "      <th>4</th>\n",
       "      <td>Mean absolute percentual error</td>\n",
       "      <td>0.00</td>\n",
       "      <td>24.32</td>\n",
       "    </tr>\n",
       "    <tr>\n",
       "      <th>5</th>\n",
       "      <td>R2</td>\n",
       "      <td>1.00</td>\n",
       "      <td>0.11</td>\n",
       "    </tr>\n",
       "  </tbody>\n",
       "</table>\n",
       "</div>"
      ],
      "text/plain": [
       "                     Error_metric  Train         Test\n",
       "0                      Mean error   0.00      2458.72\n",
       "1             Mean absolute error   0.00     23191.35\n",
       "2              Mean squared error   0.00 839995477.09\n",
       "3         Root mean squared error   0.00     28982.68\n",
       "4  Mean absolute percentual error   0.00        24.32\n",
       "5                              R2   1.00         0.11"
      ]
     },
     "execution_count": 12,
     "metadata": {},
     "output_type": "execute_result"
    }
   ],
   "source": [
    "y_train_performance_knn_bayes = np.array(y_train).reshape(-1,1)\n",
    "y_test_performance_knn_bayes  = np.array(y_test).reshape(-1,1)\n",
    "\n",
    "results_knn_bayes, df1_knn_bayes, df2_knn_bayes = fn.model_performance(y_train_performance_knn_bayes, y_pred_train_knn_bayes, \n",
    "                                                     y_test_performance_knn_bayes, y_pred_test_knn_bayes)\n",
    "results_knn_bayes"
   ]
  },
  {
   "cell_type": "markdown",
   "id": "40525d7e",
   "metadata": {},
   "source": [
    "### 2.2.Grid Search of KNN"
   ]
  },
  {
   "cell_type": "code",
   "execution_count": 13,
   "id": "ccaaa3d5",
   "metadata": {},
   "outputs": [
    {
     "name": "stdout",
     "output_type": "stream",
     "text": [
      "Fitting 5 folds for each of 114 candidates, totalling 570 fits\n"
     ]
    }
   ],
   "source": [
    "grid_knn = GridSearchCV(KNeighborsRegressor(),config['knn'],cv= config['cv'],n_jobs= config['n_jobs'],\n",
    "                           verbose= config['verbose']).fit(X_train, y_train)"
   ]
  },
  {
   "cell_type": "code",
   "execution_count": 18,
   "id": "06a784aa",
   "metadata": {},
   "outputs": [
    {
     "data": {
      "text/html": [
       "<style>#sk-container-id-3 {color: black;background-color: white;}#sk-container-id-3 pre{padding: 0;}#sk-container-id-3 div.sk-toggleable {background-color: white;}#sk-container-id-3 label.sk-toggleable__label {cursor: pointer;display: block;width: 100%;margin-bottom: 0;padding: 0.3em;box-sizing: border-box;text-align: center;}#sk-container-id-3 label.sk-toggleable__label-arrow:before {content: \"▸\";float: left;margin-right: 0.25em;color: #696969;}#sk-container-id-3 label.sk-toggleable__label-arrow:hover:before {color: black;}#sk-container-id-3 div.sk-estimator:hover label.sk-toggleable__label-arrow:before {color: black;}#sk-container-id-3 div.sk-toggleable__content {max-height: 0;max-width: 0;overflow: hidden;text-align: left;background-color: #f0f8ff;}#sk-container-id-3 div.sk-toggleable__content pre {margin: 0.2em;color: black;border-radius: 0.25em;background-color: #f0f8ff;}#sk-container-id-3 input.sk-toggleable__control:checked~div.sk-toggleable__content {max-height: 200px;max-width: 100%;overflow: auto;}#sk-container-id-3 input.sk-toggleable__control:checked~label.sk-toggleable__label-arrow:before {content: \"▾\";}#sk-container-id-3 div.sk-estimator input.sk-toggleable__control:checked~label.sk-toggleable__label {background-color: #d4ebff;}#sk-container-id-3 div.sk-label input.sk-toggleable__control:checked~label.sk-toggleable__label {background-color: #d4ebff;}#sk-container-id-3 input.sk-hidden--visually {border: 0;clip: rect(1px 1px 1px 1px);clip: rect(1px, 1px, 1px, 1px);height: 1px;margin: -1px;overflow: hidden;padding: 0;position: absolute;width: 1px;}#sk-container-id-3 div.sk-estimator {font-family: monospace;background-color: #f0f8ff;border: 1px dotted black;border-radius: 0.25em;box-sizing: border-box;margin-bottom: 0.5em;}#sk-container-id-3 div.sk-estimator:hover {background-color: #d4ebff;}#sk-container-id-3 div.sk-parallel-item::after {content: \"\";width: 100%;border-bottom: 1px solid gray;flex-grow: 1;}#sk-container-id-3 div.sk-label:hover label.sk-toggleable__label {background-color: #d4ebff;}#sk-container-id-3 div.sk-serial::before {content: \"\";position: absolute;border-left: 1px solid gray;box-sizing: border-box;top: 0;bottom: 0;left: 50%;z-index: 0;}#sk-container-id-3 div.sk-serial {display: flex;flex-direction: column;align-items: center;background-color: white;padding-right: 0.2em;padding-left: 0.2em;position: relative;}#sk-container-id-3 div.sk-item {position: relative;z-index: 1;}#sk-container-id-3 div.sk-parallel {display: flex;align-items: stretch;justify-content: center;background-color: white;position: relative;}#sk-container-id-3 div.sk-item::before, #sk-container-id-3 div.sk-parallel-item::before {content: \"\";position: absolute;border-left: 1px solid gray;box-sizing: border-box;top: 0;bottom: 0;left: 50%;z-index: -1;}#sk-container-id-3 div.sk-parallel-item {display: flex;flex-direction: column;z-index: 1;position: relative;background-color: white;}#sk-container-id-3 div.sk-parallel-item:first-child::after {align-self: flex-end;width: 50%;}#sk-container-id-3 div.sk-parallel-item:last-child::after {align-self: flex-start;width: 50%;}#sk-container-id-3 div.sk-parallel-item:only-child::after {width: 0;}#sk-container-id-3 div.sk-dashed-wrapped {border: 1px dashed gray;margin: 0 0.4em 0.5em 0.4em;box-sizing: border-box;padding-bottom: 0.4em;background-color: white;}#sk-container-id-3 div.sk-label label {font-family: monospace;font-weight: bold;display: inline-block;line-height: 1.2em;}#sk-container-id-3 div.sk-label-container {text-align: center;}#sk-container-id-3 div.sk-container {/* jupyter's `normalize.less` sets `[hidden] { display: none; }` but bootstrap.min.css set `[hidden] { display: none !important; }` so we also need the `!important` here to be able to override the default hidden behavior on the sphinx rendered scikit-learn.org. See: https://github.com/scikit-learn/scikit-learn/issues/21755 */display: inline-block !important;position: relative;}#sk-container-id-3 div.sk-text-repr-fallback {display: none;}</style><div id=\"sk-container-id-3\" class=\"sk-top-container\"><div class=\"sk-text-repr-fallback\"><pre>KNeighborsRegressor(n_neighbors=17, p=1, weights=&#x27;distance&#x27;)</pre><b>In a Jupyter environment, please rerun this cell to show the HTML representation or trust the notebook. <br />On GitHub, the HTML representation is unable to render, please try loading this page with nbviewer.org.</b></div><div class=\"sk-container\" hidden><div class=\"sk-item\"><div class=\"sk-estimator sk-toggleable\"><input class=\"sk-toggleable__control sk-hidden--visually\" id=\"sk-estimator-id-3\" type=\"checkbox\" checked><label for=\"sk-estimator-id-3\" class=\"sk-toggleable__label sk-toggleable__label-arrow\">KNeighborsRegressor</label><div class=\"sk-toggleable__content\"><pre>KNeighborsRegressor(n_neighbors=17, p=1, weights=&#x27;distance&#x27;)</pre></div></div></div></div></div>"
      ],
      "text/plain": [
       "KNeighborsRegressor(n_neighbors=17, p=1, weights='distance')"
      ]
     },
     "execution_count": 18,
     "metadata": {},
     "output_type": "execute_result"
    }
   ],
   "source": [
    "knn_grid = grid_knn.best_estimator_\n",
    "knn_grid"
   ]
  },
  {
   "cell_type": "code",
   "execution_count": 19,
   "id": "b3c339ac",
   "metadata": {},
   "outputs": [],
   "source": [
    "with open(config['models']+'top_model_KNN_with_grid.pkl', 'wb') as file:\n",
    "    pickle.dump(knn_grid, file)"
   ]
  },
  {
   "cell_type": "markdown",
   "id": "31bd15d3",
   "metadata": {},
   "source": [
    "### Testing performance of  KNN with Grid Search"
   ]
  },
  {
   "cell_type": "code",
   "execution_count": 20,
   "id": "7b092d8e",
   "metadata": {},
   "outputs": [],
   "source": [
    "y_pred_train_knn_grid = knn_grid.predict(X_train)\n",
    "y_pred_test_knn_grid = knn_grid.predict(X_test)"
   ]
  },
  {
   "cell_type": "code",
   "execution_count": 21,
   "id": "aeb50fa0",
   "metadata": {},
   "outputs": [
    {
     "data": {
      "text/html": [
       "<div>\n",
       "<style scoped>\n",
       "    .dataframe tbody tr th:only-of-type {\n",
       "        vertical-align: middle;\n",
       "    }\n",
       "\n",
       "    .dataframe tbody tr th {\n",
       "        vertical-align: top;\n",
       "    }\n",
       "\n",
       "    .dataframe thead th {\n",
       "        text-align: right;\n",
       "    }\n",
       "</style>\n",
       "<table border=\"1\" class=\"dataframe\">\n",
       "  <thead>\n",
       "    <tr style=\"text-align: right;\">\n",
       "      <th></th>\n",
       "      <th>Error_metric</th>\n",
       "      <th>Train</th>\n",
       "      <th>Test</th>\n",
       "    </tr>\n",
       "  </thead>\n",
       "  <tbody>\n",
       "    <tr>\n",
       "      <th>0</th>\n",
       "      <td>Mean error</td>\n",
       "      <td>0.00</td>\n",
       "      <td>2458.72</td>\n",
       "    </tr>\n",
       "    <tr>\n",
       "      <th>1</th>\n",
       "      <td>Mean absolute error</td>\n",
       "      <td>0.00</td>\n",
       "      <td>23191.35</td>\n",
       "    </tr>\n",
       "    <tr>\n",
       "      <th>2</th>\n",
       "      <td>Mean squared error</td>\n",
       "      <td>0.00</td>\n",
       "      <td>839995477.09</td>\n",
       "    </tr>\n",
       "    <tr>\n",
       "      <th>3</th>\n",
       "      <td>Root mean squared error</td>\n",
       "      <td>0.00</td>\n",
       "      <td>28982.68</td>\n",
       "    </tr>\n",
       "    <tr>\n",
       "      <th>4</th>\n",
       "      <td>Mean absolute percentual error</td>\n",
       "      <td>0.00</td>\n",
       "      <td>24.32</td>\n",
       "    </tr>\n",
       "    <tr>\n",
       "      <th>5</th>\n",
       "      <td>R2</td>\n",
       "      <td>1.00</td>\n",
       "      <td>0.11</td>\n",
       "    </tr>\n",
       "  </tbody>\n",
       "</table>\n",
       "</div>"
      ],
      "text/plain": [
       "                     Error_metric  Train         Test\n",
       "0                      Mean error   0.00      2458.72\n",
       "1             Mean absolute error   0.00     23191.35\n",
       "2              Mean squared error   0.00 839995477.09\n",
       "3         Root mean squared error   0.00     28982.68\n",
       "4  Mean absolute percentual error   0.00        24.32\n",
       "5                              R2   1.00         0.11"
      ]
     },
     "execution_count": 21,
     "metadata": {},
     "output_type": "execute_result"
    }
   ],
   "source": [
    "y_train_performance_knn_grid = np.array(y_train).reshape(-1,1)\n",
    "y_test_performance_knn_grid  = np.array(y_test).reshape(-1,1)\n",
    "\n",
    "results_knn_grid, df1_knn_grid, df2_knn_grid = fn.model_performance(y_train_performance_knn_grid, y_pred_train_knn_grid, \n",
    "                                                     y_test_performance_knn_grid, y_pred_test_knn_grid)\n",
    "results_knn_bayes"
   ]
  },
  {
   "cell_type": "markdown",
   "id": "08f51006",
   "metadata": {},
   "source": [
    "### 2.3.Selecting KNN model with the elbow strategy"
   ]
  },
  {
   "cell_type": "code",
   "execution_count": 22,
   "id": "15e87bd9",
   "metadata": {},
   "outputs": [
    {
     "name": "stdout",
     "output_type": "stream",
     "text": [
      "Training the K-NN model with 2 neighbours with weights uniform and p set to 1...\n",
      "\n",
      "Training the K-NN model with 2 neighbours with weights uniform and p set to 2...\n",
      "\n",
      "Training the K-NN model with 2 neighbours with weights uniform and p set to 3...\n",
      "\n",
      "Training the K-NN model with 2 neighbours with weights distance and p set to 1...\n",
      "\n",
      "Training the K-NN model with 2 neighbours with weights distance and p set to 2...\n",
      "\n",
      "Training the K-NN model with 2 neighbours with weights distance and p set to 3...\n",
      "\n",
      "Training the K-NN model with 3 neighbours with weights uniform and p set to 1...\n",
      "\n",
      "Training the K-NN model with 3 neighbours with weights uniform and p set to 2...\n",
      "\n",
      "Training the K-NN model with 3 neighbours with weights uniform and p set to 3...\n",
      "\n",
      "Training the K-NN model with 3 neighbours with weights distance and p set to 1...\n",
      "\n",
      "Training the K-NN model with 3 neighbours with weights distance and p set to 2...\n",
      "\n",
      "Training the K-NN model with 3 neighbours with weights distance and p set to 3...\n",
      "\n",
      "Training the K-NN model with 4 neighbours with weights uniform and p set to 1...\n",
      "\n",
      "Training the K-NN model with 4 neighbours with weights uniform and p set to 2...\n",
      "\n",
      "Training the K-NN model with 4 neighbours with weights uniform and p set to 3...\n",
      "\n",
      "Training the K-NN model with 4 neighbours with weights distance and p set to 1...\n",
      "\n",
      "Training the K-NN model with 4 neighbours with weights distance and p set to 2...\n",
      "\n",
      "Training the K-NN model with 4 neighbours with weights distance and p set to 3...\n",
      "\n",
      "Training the K-NN model with 5 neighbours with weights uniform and p set to 1...\n",
      "\n",
      "Training the K-NN model with 5 neighbours with weights uniform and p set to 2...\n",
      "\n",
      "Training the K-NN model with 5 neighbours with weights uniform and p set to 3...\n",
      "\n",
      "Training the K-NN model with 5 neighbours with weights distance and p set to 1...\n",
      "\n",
      "Training the K-NN model with 5 neighbours with weights distance and p set to 2...\n",
      "\n",
      "Training the K-NN model with 5 neighbours with weights distance and p set to 3...\n",
      "\n",
      "Training the K-NN model with 6 neighbours with weights uniform and p set to 1...\n",
      "\n",
      "Training the K-NN model with 6 neighbours with weights uniform and p set to 2...\n",
      "\n",
      "Training the K-NN model with 6 neighbours with weights uniform and p set to 3...\n",
      "\n",
      "Training the K-NN model with 6 neighbours with weights distance and p set to 1...\n",
      "\n",
      "Training the K-NN model with 6 neighbours with weights distance and p set to 2...\n",
      "\n",
      "Training the K-NN model with 6 neighbours with weights distance and p set to 3...\n",
      "\n",
      "Training the K-NN model with 7 neighbours with weights uniform and p set to 1...\n",
      "\n",
      "Training the K-NN model with 7 neighbours with weights uniform and p set to 2...\n",
      "\n",
      "Training the K-NN model with 7 neighbours with weights uniform and p set to 3...\n",
      "\n",
      "Training the K-NN model with 7 neighbours with weights distance and p set to 1...\n",
      "\n",
      "Training the K-NN model with 7 neighbours with weights distance and p set to 2...\n",
      "\n",
      "Training the K-NN model with 7 neighbours with weights distance and p set to 3...\n",
      "\n",
      "Training the K-NN model with 8 neighbours with weights uniform and p set to 1...\n",
      "\n",
      "Training the K-NN model with 8 neighbours with weights uniform and p set to 2...\n",
      "\n",
      "Training the K-NN model with 8 neighbours with weights uniform and p set to 3...\n",
      "\n",
      "Training the K-NN model with 8 neighbours with weights distance and p set to 1...\n",
      "\n",
      "Training the K-NN model with 8 neighbours with weights distance and p set to 2...\n",
      "\n",
      "Training the K-NN model with 8 neighbours with weights distance and p set to 3...\n",
      "\n",
      "Training the K-NN model with 9 neighbours with weights uniform and p set to 1...\n",
      "\n",
      "Training the K-NN model with 9 neighbours with weights uniform and p set to 2...\n",
      "\n",
      "Training the K-NN model with 9 neighbours with weights uniform and p set to 3...\n",
      "\n",
      "Training the K-NN model with 9 neighbours with weights distance and p set to 1...\n",
      "\n",
      "Training the K-NN model with 9 neighbours with weights distance and p set to 2...\n",
      "\n",
      "Training the K-NN model with 9 neighbours with weights distance and p set to 3...\n",
      "\n",
      "Training the K-NN model with 10 neighbours with weights uniform and p set to 1...\n",
      "\n",
      "Training the K-NN model with 10 neighbours with weights uniform and p set to 2...\n",
      "\n",
      "Training the K-NN model with 10 neighbours with weights uniform and p set to 3...\n",
      "\n",
      "Training the K-NN model with 10 neighbours with weights distance and p set to 1...\n",
      "\n",
      "Training the K-NN model with 10 neighbours with weights distance and p set to 2...\n",
      "\n",
      "Training the K-NN model with 10 neighbours with weights distance and p set to 3...\n",
      "\n",
      "Training the K-NN model with 11 neighbours with weights uniform and p set to 1...\n",
      "\n",
      "Training the K-NN model with 11 neighbours with weights uniform and p set to 2...\n",
      "\n",
      "Training the K-NN model with 11 neighbours with weights uniform and p set to 3...\n",
      "\n",
      "Training the K-NN model with 11 neighbours with weights distance and p set to 1...\n",
      "\n",
      "Training the K-NN model with 11 neighbours with weights distance and p set to 2...\n",
      "\n",
      "Training the K-NN model with 11 neighbours with weights distance and p set to 3...\n",
      "\n",
      "Training the K-NN model with 12 neighbours with weights uniform and p set to 1...\n",
      "\n",
      "Training the K-NN model with 12 neighbours with weights uniform and p set to 2...\n",
      "\n",
      "Training the K-NN model with 12 neighbours with weights uniform and p set to 3...\n",
      "\n",
      "Training the K-NN model with 12 neighbours with weights distance and p set to 1...\n",
      "\n",
      "Training the K-NN model with 12 neighbours with weights distance and p set to 2...\n",
      "\n",
      "Training the K-NN model with 12 neighbours with weights distance and p set to 3...\n",
      "\n",
      "Training the K-NN model with 13 neighbours with weights uniform and p set to 1...\n",
      "\n",
      "Training the K-NN model with 13 neighbours with weights uniform and p set to 2...\n",
      "\n",
      "Training the K-NN model with 13 neighbours with weights uniform and p set to 3...\n",
      "\n",
      "Training the K-NN model with 13 neighbours with weights distance and p set to 1...\n",
      "\n",
      "Training the K-NN model with 13 neighbours with weights distance and p set to 2...\n",
      "\n",
      "Training the K-NN model with 13 neighbours with weights distance and p set to 3...\n",
      "\n",
      "Training the K-NN model with 14 neighbours with weights uniform and p set to 1...\n",
      "\n",
      "Training the K-NN model with 14 neighbours with weights uniform and p set to 2...\n",
      "\n",
      "Training the K-NN model with 14 neighbours with weights uniform and p set to 3...\n",
      "\n",
      "Training the K-NN model with 14 neighbours with weights distance and p set to 1...\n",
      "\n",
      "Training the K-NN model with 14 neighbours with weights distance and p set to 2...\n",
      "\n",
      "Training the K-NN model with 14 neighbours with weights distance and p set to 3...\n",
      "\n",
      "Training the K-NN model with 15 neighbours with weights uniform and p set to 1...\n",
      "\n",
      "Training the K-NN model with 15 neighbours with weights uniform and p set to 2...\n",
      "\n",
      "Training the K-NN model with 15 neighbours with weights uniform and p set to 3...\n",
      "\n",
      "Training the K-NN model with 15 neighbours with weights distance and p set to 1...\n",
      "\n",
      "Training the K-NN model with 15 neighbours with weights distance and p set to 2...\n",
      "\n",
      "Training the K-NN model with 15 neighbours with weights distance and p set to 3...\n",
      "\n",
      "Training the K-NN model with 16 neighbours with weights uniform and p set to 1...\n",
      "\n",
      "Training the K-NN model with 16 neighbours with weights uniform and p set to 2...\n",
      "\n",
      "Training the K-NN model with 16 neighbours with weights uniform and p set to 3...\n",
      "\n",
      "Training the K-NN model with 16 neighbours with weights distance and p set to 1...\n",
      "\n",
      "Training the K-NN model with 16 neighbours with weights distance and p set to 2...\n",
      "\n",
      "Training the K-NN model with 16 neighbours with weights distance and p set to 3...\n",
      "\n",
      "Training the K-NN model with 17 neighbours with weights uniform and p set to 1...\n",
      "\n",
      "Training the K-NN model with 17 neighbours with weights uniform and p set to 2...\n",
      "\n",
      "Training the K-NN model with 17 neighbours with weights uniform and p set to 3...\n",
      "\n",
      "Training the K-NN model with 17 neighbours with weights distance and p set to 1...\n",
      "\n",
      "Training the K-NN model with 17 neighbours with weights distance and p set to 2...\n",
      "\n",
      "Training the K-NN model with 17 neighbours with weights distance and p set to 3...\n",
      "\n",
      "Training the K-NN model with 18 neighbours with weights uniform and p set to 1...\n",
      "\n",
      "Training the K-NN model with 18 neighbours with weights uniform and p set to 2...\n",
      "\n",
      "Training the K-NN model with 18 neighbours with weights uniform and p set to 3...\n",
      "\n",
      "Training the K-NN model with 18 neighbours with weights distance and p set to 1...\n",
      "\n",
      "Training the K-NN model with 18 neighbours with weights distance and p set to 2...\n",
      "\n",
      "Training the K-NN model with 18 neighbours with weights distance and p set to 3...\n",
      "\n",
      "Training the K-NN model with 19 neighbours with weights uniform and p set to 1...\n",
      "\n",
      "Training the K-NN model with 19 neighbours with weights uniform and p set to 2...\n"
     ]
    },
    {
     "name": "stdout",
     "output_type": "stream",
     "text": [
      "\n",
      "Training the K-NN model with 19 neighbours with weights uniform and p set to 3...\n",
      "\n",
      "Training the K-NN model with 19 neighbours with weights distance and p set to 1...\n",
      "\n",
      "Training the K-NN model with 19 neighbours with weights distance and p set to 2...\n",
      "\n",
      "Training the K-NN model with 19 neighbours with weights distance and p set to 3...\n",
      "\n"
     ]
    }
   ],
   "source": [
    "knn_models = {}\n",
    "weights = [\"uniform\",\"distance\"]\n",
    "p_values = [1,2,3]\n",
    "scores = {}\n",
    "for k in range(2,20):\n",
    "    for weight in weights:\n",
    "        for value in p_values:\n",
    "            model_knn = KNeighborsRegressor(n_neighbors=k,weights=weight,p=value).fit(X_train, y_train)\n",
    "            print(\"Training the K-NN model with {} neighbours with weights {} and p set to {}...\".format(k,weight,value))\n",
    "            knn_models[str(k)+\"_\"+weight+\"_\"+str(value)] = model_knn\n",
    "            scores[str(k)+\"_\"+weight+\"_\"+str(value)] = model_knn.score(X_test, y_test)\n",
    "            print()"
   ]
  },
  {
   "cell_type": "code",
   "execution_count": 23,
   "id": "7c99bf3b",
   "metadata": {},
   "outputs": [
    {
     "data": {
      "text/plain": [
       "{'2_uniform_1': -0.39601304834602047,\n",
       " '2_uniform_2': -0.39601304834602047,\n",
       " '2_uniform_3': -0.39601304834602047,\n",
       " '2_distance_1': -0.3927509683588326,\n",
       " '2_distance_2': -0.39239080962115547,\n",
       " '2_distance_3': -0.39372433012096875,\n",
       " '3_uniform_1': -0.16665212712564137,\n",
       " '3_uniform_2': -0.1683867771514438,\n",
       " '3_uniform_3': -0.16665212712564137,\n",
       " '3_distance_1': -0.18740986224777134,\n",
       " '3_distance_2': -0.1768506016958138,\n",
       " '3_distance_3': -0.17221544354018392,\n",
       " '4_uniform_1': -0.08394414900234004,\n",
       " '4_uniform_2': -0.08603452067181117,\n",
       " '4_uniform_3': -0.08603452067181117,\n",
       " '4_distance_1': -0.09166090912437164,\n",
       " '4_distance_2': -0.08236235983981177,\n",
       " '4_distance_3': -0.07973239196453963,\n",
       " '5_uniform_1': -0.06594931500960022,\n",
       " '5_uniform_2': -0.06554412839846124,\n",
       " '5_uniform_3': -0.06594931500960022,\n",
       " '5_distance_1': -0.05519525288754634,\n",
       " '5_distance_2': -0.04789881962037246,\n",
       " '5_distance_3': -0.04740453645512899,\n",
       " '6_uniform_1': -0.0035159130391018145,\n",
       " '6_uniform_2': -0.004290995217350213,\n",
       " '6_uniform_3': -0.0035159130391018145,\n",
       " '6_distance_1': 0.0010144674600283121,\n",
       " '6_distance_2': 0.009083482801656606,\n",
       " '6_distance_3': 0.011393780314602031,\n",
       " '7_uniform_1': 0.04501483399503081,\n",
       " '7_uniform_2': 0.04530431109275257,\n",
       " '7_uniform_3': 0.049220070201265065,\n",
       " '7_distance_1': 0.04295489585063894,\n",
       " '7_distance_2': 0.054242135075124986,\n",
       " '7_distance_3': 0.0608139121704252,\n",
       " '8_uniform_1': 0.07146611680265558,\n",
       " '8_uniform_2': 0.07149990930465044,\n",
       " '8_uniform_3': 0.07146611680265558,\n",
       " '8_distance_1': 0.06616490576623446,\n",
       " '8_distance_2': 0.07849194915929747,\n",
       " '8_distance_3': 0.08165203137417787,\n",
       " '9_uniform_1': 0.06682318998046888,\n",
       " '9_uniform_2': 0.06682318998046888,\n",
       " '9_uniform_3': 0.06766375490492438,\n",
       " '9_distance_1': 0.06866638883157261,\n",
       " '9_distance_2': 0.07859222764386453,\n",
       " '9_distance_3': 0.08151825426551695,\n",
       " '10_uniform_1': 0.07247540755779835,\n",
       " '10_uniform_2': 0.07299824675728361,\n",
       " '10_uniform_3': 0.07247540755779835,\n",
       " '10_distance_1': 0.07757161941842483,\n",
       " '10_distance_2': 0.08632111368482032,\n",
       " '10_distance_3': 0.08756938467798192,\n",
       " '11_uniform_1': 0.06387148091385753,\n",
       " '11_uniform_2': 0.06395981182270671,\n",
       " '11_uniform_3': 0.0637868654992817,\n",
       " '11_distance_1': 0.07305164372110806,\n",
       " '11_distance_2': 0.0801045848506704,\n",
       " '11_distance_3': 0.08109882165578353,\n",
       " '12_uniform_1': 0.06375699821780245,\n",
       " '12_uniform_2': 0.06647435703898019,\n",
       " '12_uniform_3': 0.06327894344453355,\n",
       " '12_distance_1': 0.07657976320510285,\n",
       " '12_distance_2': 0.08541162255961277,\n",
       " '12_distance_3': 0.08342449658173556,\n",
       " '13_uniform_1': 0.07163881066256161,\n",
       " '13_uniform_2': 0.07272813507077958,\n",
       " '13_uniform_3': 0.07163881066256161,\n",
       " '13_distance_1': 0.08307827963947123,\n",
       " '13_distance_2': 0.09101997462005962,\n",
       " '13_distance_3': 0.0911734863179392,\n",
       " '14_uniform_1': 0.07759872005299795,\n",
       " '14_uniform_2': 0.07710492300038152,\n",
       " '14_uniform_3': 0.07692818507270727,\n",
       " '14_distance_1': 0.08858211985184228,\n",
       " '14_distance_2': 0.0956617587097578,\n",
       " '14_distance_3': 0.09699677259673145,\n",
       " '15_uniform_1': 0.08082196307855727,\n",
       " '15_uniform_2': 0.07976334446948363,\n",
       " '15_uniform_3': 0.07976334446948363,\n",
       " '15_distance_1': 0.09228841763512818,\n",
       " '15_distance_2': 0.09855141769962061,\n",
       " '15_distance_3': 0.09997217944808812,\n",
       " '16_uniform_1': 0.08470466086391515,\n",
       " '16_uniform_2': 0.0852039899132736,\n",
       " '16_uniform_3': 0.08542648993763369,\n",
       " '16_distance_1': 0.09711317767330696,\n",
       " '16_distance_2': 0.10430724606359243,\n",
       " '16_distance_3': 0.10601106859402643,\n",
       " '17_uniform_1': 0.09696438971924415,\n",
       " '17_uniform_2': 0.09695464106455265,\n",
       " '17_uniform_3': 0.09702818050864903,\n",
       " '17_distance_1': 0.1079480727996478,\n",
       " '17_distance_2': 0.1156085931214772,\n",
       " '17_distance_3': 0.11738610897358748,\n",
       " '18_uniform_1': 0.1067302840822546,\n",
       " '18_uniform_2': 0.10752805535130561,\n",
       " '18_uniform_3': 0.10588438325376526,\n",
       " '18_distance_1': 0.11649988611705198,\n",
       " '18_distance_2': 0.12467276225527613,\n",
       " '18_distance_3': 0.12503674787517194,\n",
       " '19_uniform_1': 0.09794825287160913,\n",
       " '19_uniform_2': 0.09794825287160913,\n",
       " '19_uniform_3': 0.09794825287160913,\n",
       " '19_distance_1': 0.11165890077694296,\n",
       " '19_distance_2': 0.11851805533702964,\n",
       " '19_distance_3': 0.11996466847862142}"
      ]
     },
     "execution_count": 23,
     "metadata": {},
     "output_type": "execute_result"
    }
   ],
   "source": [
    "knn_scores = {}\n",
    "\n",
    "for key in knn_models.keys():\n",
    "    knn_scores[key] = knn_models[key].score(X_test, y_test)\n",
    "\n",
    "knn_scores"
   ]
  },
  {
   "cell_type": "code",
   "execution_count": 24,
   "id": "209835f4",
   "metadata": {},
   "outputs": [
    {
     "data": {
      "text/html": [
       "<div>\n",
       "<style scoped>\n",
       "    .dataframe tbody tr th:only-of-type {\n",
       "        vertical-align: middle;\n",
       "    }\n",
       "\n",
       "    .dataframe tbody tr th {\n",
       "        vertical-align: top;\n",
       "    }\n",
       "\n",
       "    .dataframe thead th {\n",
       "        text-align: right;\n",
       "    }\n",
       "</style>\n",
       "<table border=\"1\" class=\"dataframe\">\n",
       "  <thead>\n",
       "    <tr style=\"text-align: right;\">\n",
       "      <th></th>\n",
       "      <th>score</th>\n",
       "      <th>K</th>\n",
       "      <th>weight</th>\n",
       "      <th>p</th>\n",
       "    </tr>\n",
       "  </thead>\n",
       "  <tbody>\n",
       "    <tr>\n",
       "      <th>0</th>\n",
       "      <td>-0.40</td>\n",
       "      <td>2</td>\n",
       "      <td>uniform</td>\n",
       "      <td>1</td>\n",
       "    </tr>\n",
       "    <tr>\n",
       "      <th>1</th>\n",
       "      <td>-0.40</td>\n",
       "      <td>2</td>\n",
       "      <td>uniform</td>\n",
       "      <td>2</td>\n",
       "    </tr>\n",
       "    <tr>\n",
       "      <th>2</th>\n",
       "      <td>-0.40</td>\n",
       "      <td>2</td>\n",
       "      <td>uniform</td>\n",
       "      <td>3</td>\n",
       "    </tr>\n",
       "    <tr>\n",
       "      <th>3</th>\n",
       "      <td>-0.39</td>\n",
       "      <td>2</td>\n",
       "      <td>distance</td>\n",
       "      <td>1</td>\n",
       "    </tr>\n",
       "    <tr>\n",
       "      <th>4</th>\n",
       "      <td>-0.39</td>\n",
       "      <td>2</td>\n",
       "      <td>distance</td>\n",
       "      <td>2</td>\n",
       "    </tr>\n",
       "    <tr>\n",
       "      <th>...</th>\n",
       "      <td>...</td>\n",
       "      <td>...</td>\n",
       "      <td>...</td>\n",
       "      <td>...</td>\n",
       "    </tr>\n",
       "    <tr>\n",
       "      <th>103</th>\n",
       "      <td>0.10</td>\n",
       "      <td>19</td>\n",
       "      <td>uniform</td>\n",
       "      <td>2</td>\n",
       "    </tr>\n",
       "    <tr>\n",
       "      <th>104</th>\n",
       "      <td>0.10</td>\n",
       "      <td>19</td>\n",
       "      <td>uniform</td>\n",
       "      <td>3</td>\n",
       "    </tr>\n",
       "    <tr>\n",
       "      <th>105</th>\n",
       "      <td>0.11</td>\n",
       "      <td>19</td>\n",
       "      <td>distance</td>\n",
       "      <td>1</td>\n",
       "    </tr>\n",
       "    <tr>\n",
       "      <th>106</th>\n",
       "      <td>0.12</td>\n",
       "      <td>19</td>\n",
       "      <td>distance</td>\n",
       "      <td>2</td>\n",
       "    </tr>\n",
       "    <tr>\n",
       "      <th>107</th>\n",
       "      <td>0.12</td>\n",
       "      <td>19</td>\n",
       "      <td>distance</td>\n",
       "      <td>3</td>\n",
       "    </tr>\n",
       "  </tbody>\n",
       "</table>\n",
       "<p>108 rows × 4 columns</p>\n",
       "</div>"
      ],
      "text/plain": [
       "     score   K    weight  p\n",
       "0    -0.40   2   uniform  1\n",
       "1    -0.40   2   uniform  2\n",
       "2    -0.40   2   uniform  3\n",
       "3    -0.39   2  distance  1\n",
       "4    -0.39   2  distance  2\n",
       "..     ...  ..       ... ..\n",
       "103   0.10  19   uniform  2\n",
       "104   0.10  19   uniform  3\n",
       "105   0.11  19  distance  1\n",
       "106   0.12  19  distance  2\n",
       "107   0.12  19  distance  3\n",
       "\n",
       "[108 rows x 4 columns]"
      ]
     },
     "execution_count": 24,
     "metadata": {},
     "output_type": "execute_result"
    }
   ],
   "source": [
    "values = []\n",
    "for key in list(scores.keys()):\n",
    "    values.append((scores[key], int(key.split(\"_\")[0]), key.split(\"_\")[1], key.split(\"_\")[2]))\n",
    "\n",
    "knn_models_df = pd.DataFrame(values, columns=[\"score\",\"K\",\"weight\",\"p\"])\n",
    "knn_models_df"
   ]
  },
  {
   "cell_type": "code",
   "execution_count": 62,
   "id": "b5c75282",
   "metadata": {},
   "outputs": [
    {
     "data": {
      "image/png": "[encoded data removed]",
      "text/plain": [
       "<Figure size 1000x600 with 1 Axes>"
      ]
     },
     "metadata": {},
     "output_type": "display_data"
    }
   ],
   "source": [
    "fig, ax = plt.subplots(figsize=(10,6))\n",
    "sns.lineplot(data=knn_models_df[(knn_models_df['weight']==\"uniform\") &\n",
    "                                (knn_models_df['p']==\"1\")],  x=\"K\",y=\"score\",markers=\"x\",label=\"uniform_p=1\" ,ax = ax)\n",
    "\n",
    "sns.lineplot(data=knn_models_df[(knn_models_df['weight']==\"uniform\") & \n",
    "                                (knn_models_df['p']==\"2\") ], x=\"K\",y=\"score\",markers=\"o\", label=\"uniform_p=2\" ,ax = ax)\n",
    "\n",
    "sns.lineplot(data=knn_models_df[(knn_models_df['weight']==\"uniform\") & \n",
    "                                (knn_models_df['p']==\"3\") ], x=\"K\",y=\"score\",markers=\"o\", label=\"uniform_p=3\",ax = ax)\n",
    "\n",
    "sns.lineplot(data=knn_models_df[(knn_models_df['weight']==\"distance\") & \n",
    "                                (knn_models_df['p']==\"1\")],  x=\"K\",y=\"score\", markers=\"x\", label=\"distance_p=1\" ,ax = ax)\n",
    "\n",
    "sns.lineplot(data=knn_models_df[(knn_models_df['weight']==\"distance\") & \n",
    "                                (knn_models_df['p']==\"2\") ], x=\"K\",y=\"score\",markers=\"o\", label=\"distance_p=2\",ax = ax)\n",
    "\n",
    "sns.lineplot(data=knn_models_df[(knn_models_df['weight']==\"distance\") & \n",
    "                                (knn_models_df['p']==\"3\") ], x=\"K\",y=\"score\",markers=\"o\", label=\"distance_p=3\",ax = ax)\n",
    "plt.title('Scores vs. K Value')\n",
    "plt.legend()\n",
    "plt.ylabel('R2')\n",
    "plt.xlim([1,18])\n",
    "plt.savefig(config['images']+'elbow_transp.png', dpi=300, transparent=True)\n",
    "plt.savefig(config['images']+'elbow.png', dpi=300)\n",
    "plt.show()"
   ]
  },
  {
   "cell_type": "code",
   "execution_count": 26,
   "id": "ebf9d43a",
   "metadata": {},
   "outputs": [
    {
     "name": "stdout",
     "output_type": "stream",
     "text": [
      "The score for the K-NN model with 4 neighbours, weighted by distance is -0.082\n"
     ]
    }
   ],
   "source": [
    "top_knn_4 = KNeighborsRegressor(n_neighbors=4, weights = \"distance\", p=2).fit(X_train, y_train)\n",
    "\n",
    "top_knn_4_score = top_knn_4.score(X_test, y_test)\n",
    "\n",
    "print(\"The score for the K-NN model with 4 neighbours, weighted by distance is {:.3f}\".format(top_knn_4_score))"
   ]
  },
  {
   "cell_type": "code",
   "execution_count": 27,
   "id": "4f68da73",
   "metadata": {},
   "outputs": [
    {
     "name": "stdout",
     "output_type": "stream",
     "text": [
      "The score for the K-NN model with 8 neighbours, weighted by distance is 0.078\n"
     ]
    }
   ],
   "source": [
    "top_knn_4 = KNeighborsRegressor(n_neighbors=8, weights = \"distance\", p=2).fit(X_train, y_train)\n",
    "\n",
    "top_knn_4_score = top_knn_4.score(X_test, y_test)\n",
    "\n",
    "print(\"The score for the K-NN model with 8 neighbours, weighted by distance is {:.3f}\".format(top_knn_4_score))"
   ]
  },
  {
   "cell_type": "markdown",
   "id": "63b5e3c2",
   "metadata": {},
   "source": [
    "**Despite the huge overfitting the best model for KNN has 17 neighbors**"
   ]
  },
  {
   "cell_type": "markdown",
   "id": "298f6729",
   "metadata": {},
   "source": [
    "## 3.Random Forest Regressor"
   ]
  },
  {
   "cell_type": "markdown",
   "id": "0b68c1b8",
   "metadata": {},
   "source": [
    "### 3.1.Bayes Search of Random Forest"
   ]
  },
  {
   "cell_type": "code",
   "execution_count": 31,
   "id": "c73b6345",
   "metadata": {
    "scrolled": true
   },
   "outputs": [
    {
     "name": "stdout",
     "output_type": "stream",
     "text": [
      "Fitting 5 folds for each of 1 candidates, totalling 5 fits\n",
      "Fitting 5 folds for each of 1 candidates, totalling 5 fits\n",
      "Fitting 5 folds for each of 1 candidates, totalling 5 fits\n",
      "Fitting 5 folds for each of 1 candidates, totalling 5 fits\n",
      "Fitting 5 folds for each of 1 candidates, totalling 5 fits\n",
      "Fitting 5 folds for each of 1 candidates, totalling 5 fits\n",
      "Fitting 5 folds for each of 1 candidates, totalling 5 fits\n",
      "Fitting 5 folds for each of 1 candidates, totalling 5 fits\n",
      "Fitting 5 folds for each of 1 candidates, totalling 5 fits\n",
      "Fitting 5 folds for each of 1 candidates, totalling 5 fits\n",
      "Fitting 5 folds for each of 1 candidates, totalling 5 fits\n",
      "Fitting 5 folds for each of 1 candidates, totalling 5 fits\n",
      "Fitting 5 folds for each of 1 candidates, totalling 5 fits\n",
      "Fitting 5 folds for each of 1 candidates, totalling 5 fits\n",
      "Fitting 5 folds for each of 1 candidates, totalling 5 fits\n",
      "Fitting 5 folds for each of 1 candidates, totalling 5 fits\n",
      "Fitting 5 folds for each of 1 candidates, totalling 5 fits\n",
      "Fitting 5 folds for each of 1 candidates, totalling 5 fits\n",
      "Fitting 5 folds for each of 1 candidates, totalling 5 fits\n",
      "Fitting 5 folds for each of 1 candidates, totalling 5 fits\n",
      "Fitting 5 folds for each of 1 candidates, totalling 5 fits\n",
      "Fitting 5 folds for each of 1 candidates, totalling 5 fits\n",
      "Fitting 5 folds for each of 1 candidates, totalling 5 fits\n",
      "Fitting 5 folds for each of 1 candidates, totalling 5 fits\n",
      "Fitting 5 folds for each of 1 candidates, totalling 5 fits\n",
      "Fitting 5 folds for each of 1 candidates, totalling 5 fits\n",
      "Fitting 5 folds for each of 1 candidates, totalling 5 fits\n",
      "Fitting 5 folds for each of 1 candidates, totalling 5 fits\n",
      "Fitting 5 folds for each of 1 candidates, totalling 5 fits\n",
      "Fitting 5 folds for each of 1 candidates, totalling 5 fits\n",
      "Fitting 5 folds for each of 1 candidates, totalling 5 fits\n",
      "Fitting 5 folds for each of 1 candidates, totalling 5 fits\n",
      "Fitting 5 folds for each of 1 candidates, totalling 5 fits\n",
      "Fitting 5 folds for each of 1 candidates, totalling 5 fits\n",
      "Fitting 5 folds for each of 1 candidates, totalling 5 fits\n",
      "Fitting 5 folds for each of 1 candidates, totalling 5 fits\n",
      "Fitting 5 folds for each of 1 candidates, totalling 5 fits\n",
      "Fitting 5 folds for each of 1 candidates, totalling 5 fits\n"
     ]
    },
    {
     "name": "stderr",
     "output_type": "stream",
     "text": [
      "The objective has been evaluated at this point before.\n"
     ]
    },
    {
     "name": "stdout",
     "output_type": "stream",
     "text": [
      "Fitting 5 folds for each of 1 candidates, totalling 5 fits\n"
     ]
    },
    {
     "name": "stderr",
     "output_type": "stream",
     "text": [
      "The objective has been evaluated at this point before.\n"
     ]
    },
    {
     "name": "stdout",
     "output_type": "stream",
     "text": [
      "Fitting 5 folds for each of 1 candidates, totalling 5 fits\n",
      "Fitting 5 folds for each of 1 candidates, totalling 5 fits\n",
      "Fitting 5 folds for each of 1 candidates, totalling 5 fits\n",
      "Fitting 5 folds for each of 1 candidates, totalling 5 fits\n",
      "Fitting 5 folds for each of 1 candidates, totalling 5 fits\n",
      "Fitting 5 folds for each of 1 candidates, totalling 5 fits\n",
      "Fitting 5 folds for each of 1 candidates, totalling 5 fits\n",
      "Fitting 5 folds for each of 1 candidates, totalling 5 fits\n",
      "Fitting 5 folds for each of 1 candidates, totalling 5 fits\n",
      "Fitting 5 folds for each of 1 candidates, totalling 5 fits\n",
      "Fitting 5 folds for each of 1 candidates, totalling 5 fits\n"
     ]
    },
    {
     "name": "stderr",
     "output_type": "stream",
     "text": [
      "`max_features='auto'` has been deprecated in 1.1 and will be removed in 1.3. To keep the past behaviour, explicitly set `max_features=1.0` or remove this parameter as it is also the default value for RandomForestRegressors and ExtraTreesRegressors.\n"
     ]
    }
   ],
   "source": [
    "bayes_forest = BayesSearchCV(RandomForestRegressor(),config['random_forest'],cv = config['cv'], verbose = config['verbose'],\n",
    "                             n_jobs=config['n_jobs'],random_state=config['random_state']).fit(X_train, y_train.values.ravel())"
   ]
  },
  {
   "cell_type": "code",
   "execution_count": 32,
   "id": "f1b60a64",
   "metadata": {},
   "outputs": [
    {
     "data": {
      "text/html": [
       "<style>#sk-container-id-4 {color: black;background-color: white;}#sk-container-id-4 pre{padding: 0;}#sk-container-id-4 div.sk-toggleable {background-color: white;}#sk-container-id-4 label.sk-toggleable__label {cursor: pointer;display: block;width: 100%;margin-bottom: 0;padding: 0.3em;box-sizing: border-box;text-align: center;}#sk-container-id-4 label.sk-toggleable__label-arrow:before {content: \"▸\";float: left;margin-right: 0.25em;color: #696969;}#sk-container-id-4 label.sk-toggleable__label-arrow:hover:before {color: black;}#sk-container-id-4 div.sk-estimator:hover label.sk-toggleable__label-arrow:before {color: black;}#sk-container-id-4 div.sk-toggleable__content {max-height: 0;max-width: 0;overflow: hidden;text-align: left;background-color: #f0f8ff;}#sk-container-id-4 div.sk-toggleable__content pre {margin: 0.2em;color: black;border-radius: 0.25em;background-color: #f0f8ff;}#sk-container-id-4 input.sk-toggleable__control:checked~div.sk-toggleable__content {max-height: 200px;max-width: 100%;overflow: auto;}#sk-container-id-4 input.sk-toggleable__control:checked~label.sk-toggleable__label-arrow:before {content: \"▾\";}#sk-container-id-4 div.sk-estimator input.sk-toggleable__control:checked~label.sk-toggleable__label {background-color: #d4ebff;}#sk-container-id-4 div.sk-label input.sk-toggleable__control:checked~label.sk-toggleable__label {background-color: #d4ebff;}#sk-container-id-4 input.sk-hidden--visually {border: 0;clip: rect(1px 1px 1px 1px);clip: rect(1px, 1px, 1px, 1px);height: 1px;margin: -1px;overflow: hidden;padding: 0;position: absolute;width: 1px;}#sk-container-id-4 div.sk-estimator {font-family: monospace;background-color: #f0f8ff;border: 1px dotted black;border-radius: 0.25em;box-sizing: border-box;margin-bottom: 0.5em;}#sk-container-id-4 div.sk-estimator:hover {background-color: #d4ebff;}#sk-container-id-4 div.sk-parallel-item::after {content: \"\";width: 100%;border-bottom: 1px solid gray;flex-grow: 1;}#sk-container-id-4 div.sk-label:hover label.sk-toggleable__label {background-color: #d4ebff;}#sk-container-id-4 div.sk-serial::before {content: \"\";position: absolute;border-left: 1px solid gray;box-sizing: border-box;top: 0;bottom: 0;left: 50%;z-index: 0;}#sk-container-id-4 div.sk-serial {display: flex;flex-direction: column;align-items: center;background-color: white;padding-right: 0.2em;padding-left: 0.2em;position: relative;}#sk-container-id-4 div.sk-item {position: relative;z-index: 1;}#sk-container-id-4 div.sk-parallel {display: flex;align-items: stretch;justify-content: center;background-color: white;position: relative;}#sk-container-id-4 div.sk-item::before, #sk-container-id-4 div.sk-parallel-item::before {content: \"\";position: absolute;border-left: 1px solid gray;box-sizing: border-box;top: 0;bottom: 0;left: 50%;z-index: -1;}#sk-container-id-4 div.sk-parallel-item {display: flex;flex-direction: column;z-index: 1;position: relative;background-color: white;}#sk-container-id-4 div.sk-parallel-item:first-child::after {align-self: flex-end;width: 50%;}#sk-container-id-4 div.sk-parallel-item:last-child::after {align-self: flex-start;width: 50%;}#sk-container-id-4 div.sk-parallel-item:only-child::after {width: 0;}#sk-container-id-4 div.sk-dashed-wrapped {border: 1px dashed gray;margin: 0 0.4em 0.5em 0.4em;box-sizing: border-box;padding-bottom: 0.4em;background-color: white;}#sk-container-id-4 div.sk-label label {font-family: monospace;font-weight: bold;display: inline-block;line-height: 1.2em;}#sk-container-id-4 div.sk-label-container {text-align: center;}#sk-container-id-4 div.sk-container {/* jupyter's `normalize.less` sets `[hidden] { display: none; }` but bootstrap.min.css set `[hidden] { display: none !important; }` so we also need the `!important` here to be able to override the default hidden behavior on the sphinx rendered scikit-learn.org. See: https://github.com/scikit-learn/scikit-learn/issues/21755 */display: inline-block !important;position: relative;}#sk-container-id-4 div.sk-text-repr-fallback {display: none;}</style><div id=\"sk-container-id-4\" class=\"sk-top-container\"><div class=\"sk-text-repr-fallback\"><pre>RandomForestRegressor(criterion=&#x27;friedman_mse&#x27;, max_depth=10,\n",
       "                      max_features=&#x27;auto&#x27;, min_samples_leaf=2,\n",
       "                      min_samples_split=5, n_estimators=150)</pre><b>In a Jupyter environment, please rerun this cell to show the HTML representation or trust the notebook. <br />On GitHub, the HTML representation is unable to render, please try loading this page with nbviewer.org.</b></div><div class=\"sk-container\" hidden><div class=\"sk-item\"><div class=\"sk-estimator sk-toggleable\"><input class=\"sk-toggleable__control sk-hidden--visually\" id=\"sk-estimator-id-4\" type=\"checkbox\" checked><label for=\"sk-estimator-id-4\" class=\"sk-toggleable__label sk-toggleable__label-arrow\">RandomForestRegressor</label><div class=\"sk-toggleable__content\"><pre>RandomForestRegressor(criterion=&#x27;friedman_mse&#x27;, max_depth=10,\n",
       "                      max_features=&#x27;auto&#x27;, min_samples_leaf=2,\n",
       "                      min_samples_split=5, n_estimators=150)</pre></div></div></div></div></div>"
      ],
      "text/plain": [
       "RandomForestRegressor(criterion='friedman_mse', max_depth=10,\n",
       "                      max_features='auto', min_samples_leaf=2,\n",
       "                      min_samples_split=5, n_estimators=150)"
      ]
     },
     "execution_count": 32,
     "metadata": {},
     "output_type": "execute_result"
    }
   ],
   "source": [
    "top_bayes_forest = bayes_forest.best_estimator_\n",
    "top_bayes_forest"
   ]
  },
  {
   "cell_type": "code",
   "execution_count": 33,
   "id": "9bca8e90",
   "metadata": {},
   "outputs": [],
   "source": [
    "with open(config['models']+'top_model_random_forest_with_bayes.pkl', 'wb') as file:\n",
    "    pickle.dump(top_bayes_forest, file)"
   ]
  },
  {
   "cell_type": "markdown",
   "id": "967d1915",
   "metadata": {},
   "source": [
    "### Testing performance of Random Forest"
   ]
  },
  {
   "cell_type": "code",
   "execution_count": 34,
   "id": "21b9b77b",
   "metadata": {},
   "outputs": [],
   "source": [
    "y_pred_train_bayes_forest = top_bayes_forest.predict(X_train)\n",
    "y_pred_test_bayes_forest = top_bayes_forest.predict(X_test)"
   ]
  },
  {
   "cell_type": "code",
   "execution_count": 35,
   "id": "f2f721ce",
   "metadata": {},
   "outputs": [
    {
     "data": {
      "text/html": [
       "<div>\n",
       "<style scoped>\n",
       "    .dataframe tbody tr th:only-of-type {\n",
       "        vertical-align: middle;\n",
       "    }\n",
       "\n",
       "    .dataframe tbody tr th {\n",
       "        vertical-align: top;\n",
       "    }\n",
       "\n",
       "    .dataframe thead th {\n",
       "        text-align: right;\n",
       "    }\n",
       "</style>\n",
       "<table border=\"1\" class=\"dataframe\">\n",
       "  <thead>\n",
       "    <tr style=\"text-align: right;\">\n",
       "      <th></th>\n",
       "      <th>Error_metric</th>\n",
       "      <th>Train</th>\n",
       "      <th>Test</th>\n",
       "    </tr>\n",
       "  </thead>\n",
       "  <tbody>\n",
       "    <tr>\n",
       "      <th>0</th>\n",
       "      <td>Mean error</td>\n",
       "      <td>-8.37</td>\n",
       "      <td>564.05</td>\n",
       "    </tr>\n",
       "    <tr>\n",
       "      <th>1</th>\n",
       "      <td>Mean absolute error</td>\n",
       "      <td>11633.68</td>\n",
       "      <td>21947.09</td>\n",
       "    </tr>\n",
       "    <tr>\n",
       "      <th>2</th>\n",
       "      <td>Mean squared error</td>\n",
       "      <td>248939496.58</td>\n",
       "      <td>787866716.53</td>\n",
       "    </tr>\n",
       "    <tr>\n",
       "      <th>3</th>\n",
       "      <td>Root mean squared error</td>\n",
       "      <td>15777.82</td>\n",
       "      <td>28068.96</td>\n",
       "    </tr>\n",
       "    <tr>\n",
       "      <th>4</th>\n",
       "      <td>Mean absolute percentual error</td>\n",
       "      <td>35.16</td>\n",
       "      <td>30.70</td>\n",
       "    </tr>\n",
       "    <tr>\n",
       "      <th>5</th>\n",
       "      <td>R2</td>\n",
       "      <td>0.78</td>\n",
       "      <td>0.16</td>\n",
       "    </tr>\n",
       "  </tbody>\n",
       "</table>\n",
       "</div>"
      ],
      "text/plain": [
       "                     Error_metric        Train         Test\n",
       "0                      Mean error        -8.37       564.05\n",
       "1             Mean absolute error     11633.68     21947.09\n",
       "2              Mean squared error 248939496.58 787866716.53\n",
       "3         Root mean squared error     15777.82     28068.96\n",
       "4  Mean absolute percentual error        35.16        30.70\n",
       "5                              R2         0.78         0.16"
      ]
     },
     "execution_count": 35,
     "metadata": {},
     "output_type": "execute_result"
    }
   ],
   "source": [
    "y_train_performance_bayes_forest = np.array(y_train).reshape(-1,1)\n",
    "y_test_performance_bayes_forest  = np.array(y_test).reshape(-1,1)\n",
    "\n",
    "results_bayes_forest, df1_bayes_forest, df2_bayes_forest = fn.model_performance(y_train_performance_bayes_forest,\n",
    "                                                                                y_pred_train_bayes_forest, \n",
    "                                                                                y_test_performance_bayes_forest, \n",
    "                                                                                y_pred_test_bayes_forest)\n",
    "results_bayes_forest"
   ]
  },
  {
   "cell_type": "markdown",
   "id": "1f9294f5",
   "metadata": {},
   "source": [
    "### 3.2.Grid Search of Random Forest"
   ]
  },
  {
   "cell_type": "code",
   "execution_count": 36,
   "id": "07db4414",
   "metadata": {},
   "outputs": [
    {
     "name": "stdout",
     "output_type": "stream",
     "text": [
      "Fitting 5 folds for each of 1296 candidates, totalling 6480 fits\n"
     ]
    },
    {
     "name": "stderr",
     "output_type": "stream",
     "text": [
      "`max_features='auto'` has been deprecated in 1.1 and will be removed in 1.3. To keep the past behaviour, explicitly set `max_features=1.0` or remove this parameter as it is also the default value for RandomForestRegressors and ExtraTreesRegressors.\n"
     ]
    }
   ],
   "source": [
    "grid_forest = GridSearchCV(RandomForestRegressor(),config['random_forest'],\n",
    "                           cv = config['cv'], verbose = config['verbose'],\n",
    "                           n_jobs=config['n_jobs']).fit(X_train, y_train.values.ravel())"
   ]
  },
  {
   "cell_type": "code",
   "execution_count": 37,
   "id": "b29f2f00",
   "metadata": {},
   "outputs": [
    {
     "data": {
      "text/html": [
       "<style>#sk-container-id-5 {color: black;background-color: white;}#sk-container-id-5 pre{padding: 0;}#sk-container-id-5 div.sk-toggleable {background-color: white;}#sk-container-id-5 label.sk-toggleable__label {cursor: pointer;display: block;width: 100%;margin-bottom: 0;padding: 0.3em;box-sizing: border-box;text-align: center;}#sk-container-id-5 label.sk-toggleable__label-arrow:before {content: \"▸\";float: left;margin-right: 0.25em;color: #696969;}#sk-container-id-5 label.sk-toggleable__label-arrow:hover:before {color: black;}#sk-container-id-5 div.sk-estimator:hover label.sk-toggleable__label-arrow:before {color: black;}#sk-container-id-5 div.sk-toggleable__content {max-height: 0;max-width: 0;overflow: hidden;text-align: left;background-color: #f0f8ff;}#sk-container-id-5 div.sk-toggleable__content pre {margin: 0.2em;color: black;border-radius: 0.25em;background-color: #f0f8ff;}#sk-container-id-5 input.sk-toggleable__control:checked~div.sk-toggleable__content {max-height: 200px;max-width: 100%;overflow: auto;}#sk-container-id-5 input.sk-toggleable__control:checked~label.sk-toggleable__label-arrow:before {content: \"▾\";}#sk-container-id-5 div.sk-estimator input.sk-toggleable__control:checked~label.sk-toggleable__label {background-color: #d4ebff;}#sk-container-id-5 div.sk-label input.sk-toggleable__control:checked~label.sk-toggleable__label {background-color: #d4ebff;}#sk-container-id-5 input.sk-hidden--visually {border: 0;clip: rect(1px 1px 1px 1px);clip: rect(1px, 1px, 1px, 1px);height: 1px;margin: -1px;overflow: hidden;padding: 0;position: absolute;width: 1px;}#sk-container-id-5 div.sk-estimator {font-family: monospace;background-color: #f0f8ff;border: 1px dotted black;border-radius: 0.25em;box-sizing: border-box;margin-bottom: 0.5em;}#sk-container-id-5 div.sk-estimator:hover {background-color: #d4ebff;}#sk-container-id-5 div.sk-parallel-item::after {content: \"\";width: 100%;border-bottom: 1px solid gray;flex-grow: 1;}#sk-container-id-5 div.sk-label:hover label.sk-toggleable__label {background-color: #d4ebff;}#sk-container-id-5 div.sk-serial::before {content: \"\";position: absolute;border-left: 1px solid gray;box-sizing: border-box;top: 0;bottom: 0;left: 50%;z-index: 0;}#sk-container-id-5 div.sk-serial {display: flex;flex-direction: column;align-items: center;background-color: white;padding-right: 0.2em;padding-left: 0.2em;position: relative;}#sk-container-id-5 div.sk-item {position: relative;z-index: 1;}#sk-container-id-5 div.sk-parallel {display: flex;align-items: stretch;justify-content: center;background-color: white;position: relative;}#sk-container-id-5 div.sk-item::before, #sk-container-id-5 div.sk-parallel-item::before {content: \"\";position: absolute;border-left: 1px solid gray;box-sizing: border-box;top: 0;bottom: 0;left: 50%;z-index: -1;}#sk-container-id-5 div.sk-parallel-item {display: flex;flex-direction: column;z-index: 1;position: relative;background-color: white;}#sk-container-id-5 div.sk-parallel-item:first-child::after {align-self: flex-end;width: 50%;}#sk-container-id-5 div.sk-parallel-item:last-child::after {align-self: flex-start;width: 50%;}#sk-container-id-5 div.sk-parallel-item:only-child::after {width: 0;}#sk-container-id-5 div.sk-dashed-wrapped {border: 1px dashed gray;margin: 0 0.4em 0.5em 0.4em;box-sizing: border-box;padding-bottom: 0.4em;background-color: white;}#sk-container-id-5 div.sk-label label {font-family: monospace;font-weight: bold;display: inline-block;line-height: 1.2em;}#sk-container-id-5 div.sk-label-container {text-align: center;}#sk-container-id-5 div.sk-container {/* jupyter's `normalize.less` sets `[hidden] { display: none; }` but bootstrap.min.css set `[hidden] { display: none !important; }` so we also need the `!important` here to be able to override the default hidden behavior on the sphinx rendered scikit-learn.org. See: https://github.com/scikit-learn/scikit-learn/issues/21755 */display: inline-block !important;position: relative;}#sk-container-id-5 div.sk-text-repr-fallback {display: none;}</style><div id=\"sk-container-id-5\" class=\"sk-top-container\"><div class=\"sk-text-repr-fallback\"><pre>RandomForestRegressor(max_depth=10, max_features=&#x27;auto&#x27;, min_samples_leaf=2,\n",
       "                      n_estimators=150)</pre><b>In a Jupyter environment, please rerun this cell to show the HTML representation or trust the notebook. <br />On GitHub, the HTML representation is unable to render, please try loading this page with nbviewer.org.</b></div><div class=\"sk-container\" hidden><div class=\"sk-item\"><div class=\"sk-estimator sk-toggleable\"><input class=\"sk-toggleable__control sk-hidden--visually\" id=\"sk-estimator-id-5\" type=\"checkbox\" checked><label for=\"sk-estimator-id-5\" class=\"sk-toggleable__label sk-toggleable__label-arrow\">RandomForestRegressor</label><div class=\"sk-toggleable__content\"><pre>RandomForestRegressor(max_depth=10, max_features=&#x27;auto&#x27;, min_samples_leaf=2,\n",
       "                      n_estimators=150)</pre></div></div></div></div></div>"
      ],
      "text/plain": [
       "RandomForestRegressor(max_depth=10, max_features='auto', min_samples_leaf=2,\n",
       "                      n_estimators=150)"
      ]
     },
     "execution_count": 37,
     "metadata": {},
     "output_type": "execute_result"
    }
   ],
   "source": [
    "top_grid_forest = grid_forest.best_estimator_\n",
    "top_grid_forest"
   ]
  },
  {
   "cell_type": "code",
   "execution_count": 38,
   "id": "063e2a69",
   "metadata": {},
   "outputs": [],
   "source": [
    "with open(config['models']+'top_model_random_forest_with_grid.pkl', 'wb') as file:\n",
    "    pickle.dump(top_grid_forest, file)"
   ]
  },
  {
   "cell_type": "markdown",
   "id": "e01f1a80",
   "metadata": {},
   "source": [
    "### Testing performance of Grid Search of Random Forest"
   ]
  },
  {
   "cell_type": "code",
   "execution_count": 39,
   "id": "aa3d120a",
   "metadata": {},
   "outputs": [],
   "source": [
    "y_pred_train_grid_forest = top_grid_forest.predict(X_train)\n",
    "y_pred_test_grid_forest = top_grid_forest.predict(X_test)"
   ]
  },
  {
   "cell_type": "code",
   "execution_count": 40,
   "id": "f9e631b3",
   "metadata": {},
   "outputs": [
    {
     "data": {
      "text/html": [
       "<div>\n",
       "<style scoped>\n",
       "    .dataframe tbody tr th:only-of-type {\n",
       "        vertical-align: middle;\n",
       "    }\n",
       "\n",
       "    .dataframe tbody tr th {\n",
       "        vertical-align: top;\n",
       "    }\n",
       "\n",
       "    .dataframe thead th {\n",
       "        text-align: right;\n",
       "    }\n",
       "</style>\n",
       "<table border=\"1\" class=\"dataframe\">\n",
       "  <thead>\n",
       "    <tr style=\"text-align: right;\">\n",
       "      <th></th>\n",
       "      <th>Error_metric</th>\n",
       "      <th>Train</th>\n",
       "      <th>Test</th>\n",
       "    </tr>\n",
       "  </thead>\n",
       "  <tbody>\n",
       "    <tr>\n",
       "      <th>0</th>\n",
       "      <td>Mean error</td>\n",
       "      <td>-170.32</td>\n",
       "      <td>414.50</td>\n",
       "    </tr>\n",
       "    <tr>\n",
       "      <th>1</th>\n",
       "      <td>Mean absolute error</td>\n",
       "      <td>11168.90</td>\n",
       "      <td>21918.43</td>\n",
       "    </tr>\n",
       "    <tr>\n",
       "      <th>2</th>\n",
       "      <td>Mean squared error</td>\n",
       "      <td>229410568.20</td>\n",
       "      <td>776902620.88</td>\n",
       "    </tr>\n",
       "    <tr>\n",
       "      <th>3</th>\n",
       "      <td>Root mean squared error</td>\n",
       "      <td>15146.31</td>\n",
       "      <td>27872.97</td>\n",
       "    </tr>\n",
       "    <tr>\n",
       "      <th>4</th>\n",
       "      <td>Mean absolute percentual error</td>\n",
       "      <td>35.37</td>\n",
       "      <td>30.72</td>\n",
       "    </tr>\n",
       "    <tr>\n",
       "      <th>5</th>\n",
       "      <td>R2</td>\n",
       "      <td>0.80</td>\n",
       "      <td>0.17</td>\n",
       "    </tr>\n",
       "  </tbody>\n",
       "</table>\n",
       "</div>"
      ],
      "text/plain": [
       "                     Error_metric        Train         Test\n",
       "0                      Mean error      -170.32       414.50\n",
       "1             Mean absolute error     11168.90     21918.43\n",
       "2              Mean squared error 229410568.20 776902620.88\n",
       "3         Root mean squared error     15146.31     27872.97\n",
       "4  Mean absolute percentual error        35.37        30.72\n",
       "5                              R2         0.80         0.17"
      ]
     },
     "execution_count": 40,
     "metadata": {},
     "output_type": "execute_result"
    }
   ],
   "source": [
    "y_train_performance_grid_forest = np.array(y_train).reshape(-1,1)\n",
    "y_test_performance_grid_forest  = np.array(y_test).reshape(-1,1)\n",
    "\n",
    "results_grid_forest, df1_grid_forest, df2_grid_forest = fn.model_performance(y_train_performance_grid_forest,\n",
    "                                                                                y_pred_train_grid_forest, \n",
    "                                                                                y_test_performance_grid_forest, \n",
    "                                                                                y_pred_test_grid_forest)\n",
    "results_grid_forest"
   ]
  },
  {
   "cell_type": "markdown",
   "id": "04338703",
   "metadata": {},
   "source": [
    "## 4.Gradient Boosting Regressor"
   ]
  },
  {
   "cell_type": "markdown",
   "id": "70416776",
   "metadata": {},
   "source": [
    "### 4.1.Bayes Search of Gradient Boosting"
   ]
  },
  {
   "cell_type": "code",
   "execution_count": 41,
   "id": "45e90694",
   "metadata": {
    "scrolled": true
   },
   "outputs": [
    {
     "name": "stdout",
     "output_type": "stream",
     "text": [
      "Fitting 5 folds for each of 1 candidates, totalling 5 fits\n",
      "Fitting 5 folds for each of 1 candidates, totalling 5 fits\n",
      "Fitting 5 folds for each of 1 candidates, totalling 5 fits\n",
      "Fitting 5 folds for each of 1 candidates, totalling 5 fits\n",
      "Fitting 5 folds for each of 1 candidates, totalling 5 fits\n",
      "Fitting 5 folds for each of 1 candidates, totalling 5 fits\n",
      "Fitting 5 folds for each of 1 candidates, totalling 5 fits\n",
      "Fitting 5 folds for each of 1 candidates, totalling 5 fits\n",
      "Fitting 5 folds for each of 1 candidates, totalling 5 fits\n",
      "Fitting 5 folds for each of 1 candidates, totalling 5 fits\n",
      "Fitting 5 folds for each of 1 candidates, totalling 5 fits\n",
      "Fitting 5 folds for each of 1 candidates, totalling 5 fits\n",
      "Fitting 5 folds for each of 1 candidates, totalling 5 fits\n",
      "Fitting 5 folds for each of 1 candidates, totalling 5 fits\n",
      "Fitting 5 folds for each of 1 candidates, totalling 5 fits\n",
      "Fitting 5 folds for each of 1 candidates, totalling 5 fits\n",
      "Fitting 5 folds for each of 1 candidates, totalling 5 fits\n",
      "Fitting 5 folds for each of 1 candidates, totalling 5 fits\n",
      "Fitting 5 folds for each of 1 candidates, totalling 5 fits\n",
      "Fitting 5 folds for each of 1 candidates, totalling 5 fits\n",
      "Fitting 5 folds for each of 1 candidates, totalling 5 fits\n",
      "Fitting 5 folds for each of 1 candidates, totalling 5 fits\n",
      "Fitting 5 folds for each of 1 candidates, totalling 5 fits\n",
      "Fitting 5 folds for each of 1 candidates, totalling 5 fits\n",
      "Fitting 5 folds for each of 1 candidates, totalling 5 fits\n",
      "Fitting 5 folds for each of 1 candidates, totalling 5 fits\n",
      "Fitting 5 folds for each of 1 candidates, totalling 5 fits\n",
      "Fitting 5 folds for each of 1 candidates, totalling 5 fits\n",
      "Fitting 5 folds for each of 1 candidates, totalling 5 fits\n",
      "Fitting 5 folds for each of 1 candidates, totalling 5 fits\n",
      "Fitting 5 folds for each of 1 candidates, totalling 5 fits\n",
      "Fitting 5 folds for each of 1 candidates, totalling 5 fits\n",
      "Fitting 5 folds for each of 1 candidates, totalling 5 fits\n",
      "Fitting 5 folds for each of 1 candidates, totalling 5 fits\n",
      "Fitting 5 folds for each of 1 candidates, totalling 5 fits\n",
      "Fitting 5 folds for each of 1 candidates, totalling 5 fits\n",
      "Fitting 5 folds for each of 1 candidates, totalling 5 fits\n",
      "Fitting 5 folds for each of 1 candidates, totalling 5 fits\n",
      "Fitting 5 folds for each of 1 candidates, totalling 5 fits\n",
      "Fitting 5 folds for each of 1 candidates, totalling 5 fits\n",
      "Fitting 5 folds for each of 1 candidates, totalling 5 fits\n",
      "Fitting 5 folds for each of 1 candidates, totalling 5 fits\n",
      "Fitting 5 folds for each of 1 candidates, totalling 5 fits\n",
      "Fitting 5 folds for each of 1 candidates, totalling 5 fits\n",
      "Fitting 5 folds for each of 1 candidates, totalling 5 fits\n",
      "Fitting 5 folds for each of 1 candidates, totalling 5 fits\n",
      "Fitting 5 folds for each of 1 candidates, totalling 5 fits\n",
      "Fitting 5 folds for each of 1 candidates, totalling 5 fits\n",
      "Fitting 5 folds for each of 1 candidates, totalling 5 fits\n",
      "Fitting 5 folds for each of 1 candidates, totalling 5 fits\n"
     ]
    },
    {
     "name": "stderr",
     "output_type": "stream",
     "text": [
      "`max_features='auto'` has been deprecated in 1.1 and will be removed in 1.3. To keep the past behaviour, explicitly set `max_features=1.0'`.\n",
      "`max_features='auto'` has been deprecated in 1.1 and will be removed in 1.3. To keep the past behaviour, explicitly set `max_features=1.0'`.\n",
      "`max_features='auto'` has been deprecated in 1.1 and will be removed in 1.3. To keep the past behaviour, explicitly set `max_features=1.0'`.\n",
      "`max_features='auto'` has been deprecated in 1.1 and will be removed in 1.3. To keep the past behaviour, explicitly set `max_features=1.0'`.\n",
      "`max_features='auto'` has been deprecated in 1.1 and will be removed in 1.3. To keep the past behaviour, explicitly set `max_features=1.0'`.\n",
      "`max_features='auto'` has been deprecated in 1.1 and will be removed in 1.3. To keep the past behaviour, explicitly set `max_features=1.0'`.\n",
      "`max_features='auto'` has been deprecated in 1.1 and will be removed in 1.3. To keep the past behaviour, explicitly set `max_features=1.0'`.\n",
      "`max_features='auto'` has been deprecated in 1.1 and will be removed in 1.3. To keep the past behaviour, explicitly set `max_features=1.0'`.\n",
      "`max_features='auto'` has been deprecated in 1.1 and will be removed in 1.3. To keep the past behaviour, explicitly set `max_features=1.0'`.\n",
      "`max_features='auto'` has been deprecated in 1.1 and will be removed in 1.3. To keep the past behaviour, explicitly set `max_features=1.0'`.\n",
      "`max_features='auto'` has been deprecated in 1.1 and will be removed in 1.3. To keep the past behaviour, explicitly set `max_features=1.0'`.\n",
      "`max_features='auto'` has been deprecated in 1.1 and will be removed in 1.3. To keep the past behaviour, explicitly set `max_features=1.0'`.\n",
      "`max_features='auto'` has been deprecated in 1.1 and will be removed in 1.3. To keep the past behaviour, explicitly set `max_features=1.0'`.\n",
      "`max_features='auto'` has been deprecated in 1.1 and will be removed in 1.3. To keep the past behaviour, explicitly set `max_features=1.0'`.\n",
      "`max_features='auto'` has been deprecated in 1.1 and will be removed in 1.3. To keep the past behaviour, explicitly set `max_features=1.0'`.\n",
      "`max_features='auto'` has been deprecated in 1.1 and will be removed in 1.3. To keep the past behaviour, explicitly set `max_features=1.0'`.\n",
      "`max_features='auto'` has been deprecated in 1.1 and will be removed in 1.3. To keep the past behaviour, explicitly set `max_features=1.0'`.\n",
      "`max_features='auto'` has been deprecated in 1.1 and will be removed in 1.3. To keep the past behaviour, explicitly set `max_features=1.0'`.\n",
      "`max_features='auto'` has been deprecated in 1.1 and will be removed in 1.3. To keep the past behaviour, explicitly set `max_features=1.0'`.\n",
      "`max_features='auto'` has been deprecated in 1.1 and will be removed in 1.3. To keep the past behaviour, explicitly set `max_features=1.0'`.\n",
      "`max_features='auto'` has been deprecated in 1.1 and will be removed in 1.3. To keep the past behaviour, explicitly set `max_features=1.0'`.\n",
      "`max_features='auto'` has been deprecated in 1.1 and will be removed in 1.3. To keep the past behaviour, explicitly set `max_features=1.0'`.\n",
      "`max_features='auto'` has been deprecated in 1.1 and will be removed in 1.3. To keep the past behaviour, explicitly set `max_features=1.0'`.\n",
      "`max_features='auto'` has been deprecated in 1.1 and will be removed in 1.3. To keep the past behaviour, explicitly set `max_features=1.0'`.\n",
      "`max_features='auto'` has been deprecated in 1.1 and will be removed in 1.3. To keep the past behaviour, explicitly set `max_features=1.0'`.\n",
      "`max_features='auto'` has been deprecated in 1.1 and will be removed in 1.3. To keep the past behaviour, explicitly set `max_features=1.0'`.\n",
      "`max_features='auto'` has been deprecated in 1.1 and will be removed in 1.3. To keep the past behaviour, explicitly set `max_features=1.0'`.\n",
      "`max_features='auto'` has been deprecated in 1.1 and will be removed in 1.3. To keep the past behaviour, explicitly set `max_features=1.0'`.\n",
      "`max_features='auto'` has been deprecated in 1.1 and will be removed in 1.3. To keep the past behaviour, explicitly set `max_features=1.0'`.\n",
      "`max_features='auto'` has been deprecated in 1.1 and will be removed in 1.3. To keep the past behaviour, explicitly set `max_features=1.0'`.\n",
      "`max_features='auto'` has been deprecated in 1.1 and will be removed in 1.3. To keep the past behaviour, explicitly set `max_features=1.0'`.\n",
      "`max_features='auto'` has been deprecated in 1.1 and will be removed in 1.3. To keep the past behaviour, explicitly set `max_features=1.0'`.\n",
      "`max_features='auto'` has been deprecated in 1.1 and will be removed in 1.3. To keep the past behaviour, explicitly set `max_features=1.0'`.\n",
      "`max_features='auto'` has been deprecated in 1.1 and will be removed in 1.3. To keep the past behaviour, explicitly set `max_features=1.0'`.\n",
      "`max_features='auto'` has been deprecated in 1.1 and will be removed in 1.3. To keep the past behaviour, explicitly set `max_features=1.0'`.\n",
      "`max_features='auto'` has been deprecated in 1.1 and will be removed in 1.3. To keep the past behaviour, explicitly set `max_features=1.0'`.\n",
      "`max_features='auto'` has been deprecated in 1.1 and will be removed in 1.3. To keep the past behaviour, explicitly set `max_features=1.0'`.\n",
      "`max_features='auto'` has been deprecated in 1.1 and will be removed in 1.3. To keep the past behaviour, explicitly set `max_features=1.0'`.\n",
      "`max_features='auto'` has been deprecated in 1.1 and will be removed in 1.3. To keep the past behaviour, explicitly set `max_features=1.0'`.\n",
      "`max_features='auto'` has been deprecated in 1.1 and will be removed in 1.3. To keep the past behaviour, explicitly set `max_features=1.0'`.\n",
      "`max_features='auto'` has been deprecated in 1.1 and will be removed in 1.3. To keep the past behaviour, explicitly set `max_features=1.0'`.\n",
      "`max_features='auto'` has been deprecated in 1.1 and will be removed in 1.3. To keep the past behaviour, explicitly set `max_features=1.0'`.\n",
      "`max_features='auto'` has been deprecated in 1.1 and will be removed in 1.3. To keep the past behaviour, explicitly set `max_features=1.0'`.\n",
      "`max_features='auto'` has been deprecated in 1.1 and will be removed in 1.3. To keep the past behaviour, explicitly set `max_features=1.0'`.\n",
      "`max_features='auto'` has been deprecated in 1.1 and will be removed in 1.3. To keep the past behaviour, explicitly set `max_features=1.0'`.\n",
      "`max_features='auto'` has been deprecated in 1.1 and will be removed in 1.3. To keep the past behaviour, explicitly set `max_features=1.0'`.\n",
      "`max_features='auto'` has been deprecated in 1.1 and will be removed in 1.3. To keep the past behaviour, explicitly set `max_features=1.0'`.\n",
      "`max_features='auto'` has been deprecated in 1.1 and will be removed in 1.3. To keep the past behaviour, explicitly set `max_features=1.0'`.\n",
      "`max_features='auto'` has been deprecated in 1.1 and will be removed in 1.3. To keep the past behaviour, explicitly set `max_features=1.0'`.\n",
      "`max_features='auto'` has been deprecated in 1.1 and will be removed in 1.3. To keep the past behaviour, explicitly set `max_features=1.0'`.\n",
      "`max_features='auto'` has been deprecated in 1.1 and will be removed in 1.3. To keep the past behaviour, explicitly set `max_features=1.0'`.\n",
      "`max_features='auto'` has been deprecated in 1.1 and will be removed in 1.3. To keep the past behaviour, explicitly set `max_features=1.0'`.\n",
      "`max_features='auto'` has been deprecated in 1.1 and will be removed in 1.3. To keep the past behaviour, explicitly set `max_features=1.0'`.\n",
      "`max_features='auto'` has been deprecated in 1.1 and will be removed in 1.3. To keep the past behaviour, explicitly set `max_features=1.0'`.\n",
      "`max_features='auto'` has been deprecated in 1.1 and will be removed in 1.3. To keep the past behaviour, explicitly set `max_features=1.0'`.\n",
      "`max_features='auto'` has been deprecated in 1.1 and will be removed in 1.3. To keep the past behaviour, explicitly set `max_features=1.0'`.\n",
      "`max_features='auto'` has been deprecated in 1.1 and will be removed in 1.3. To keep the past behaviour, explicitly set `max_features=1.0'`.\n",
      "`max_features='auto'` has been deprecated in 1.1 and will be removed in 1.3. To keep the past behaviour, explicitly set `max_features=1.0'`.\n",
      "`max_features='auto'` has been deprecated in 1.1 and will be removed in 1.3. To keep the past behaviour, explicitly set `max_features=1.0'`.\n",
      "`max_features='auto'` has been deprecated in 1.1 and will be removed in 1.3. To keep the past behaviour, explicitly set `max_features=1.0'`.\n",
      "`max_features='auto'` has been deprecated in 1.1 and will be removed in 1.3. To keep the past behaviour, explicitly set `max_features=1.0'`.\n",
      "`max_features='auto'` has been deprecated in 1.1 and will be removed in 1.3. To keep the past behaviour, explicitly set `max_features=1.0'`.\n",
      "`max_features='auto'` has been deprecated in 1.1 and will be removed in 1.3. To keep the past behaviour, explicitly set `max_features=1.0'`.\n",
      "`max_features='auto'` has been deprecated in 1.1 and will be removed in 1.3. To keep the past behaviour, explicitly set `max_features=1.0'`.\n",
      "`max_features='auto'` has been deprecated in 1.1 and will be removed in 1.3. To keep the past behaviour, explicitly set `max_features=1.0'`.\n"
     ]
    },
    {
     "name": "stderr",
     "output_type": "stream",
     "text": [
      "`max_features='auto'` has been deprecated in 1.1 and will be removed in 1.3. To keep the past behaviour, explicitly set `max_features=1.0'`.\n",
      "`max_features='auto'` has been deprecated in 1.1 and will be removed in 1.3. To keep the past behaviour, explicitly set `max_features=1.0'`.\n",
      "`max_features='auto'` has been deprecated in 1.1 and will be removed in 1.3. To keep the past behaviour, explicitly set `max_features=1.0'`.\n",
      "`max_features='auto'` has been deprecated in 1.1 and will be removed in 1.3. To keep the past behaviour, explicitly set `max_features=1.0'`.\n",
      "`max_features='auto'` has been deprecated in 1.1 and will be removed in 1.3. To keep the past behaviour, explicitly set `max_features=1.0'`.\n",
      "`max_features='auto'` has been deprecated in 1.1 and will be removed in 1.3. To keep the past behaviour, explicitly set `max_features=1.0'`.\n",
      "`max_features='auto'` has been deprecated in 1.1 and will be removed in 1.3. To keep the past behaviour, explicitly set `max_features=1.0'`.\n",
      "`max_features='auto'` has been deprecated in 1.1 and will be removed in 1.3. To keep the past behaviour, explicitly set `max_features=1.0'`.\n",
      "`max_features='auto'` has been deprecated in 1.1 and will be removed in 1.3. To keep the past behaviour, explicitly set `max_features=1.0'`.\n",
      "`max_features='auto'` has been deprecated in 1.1 and will be removed in 1.3. To keep the past behaviour, explicitly set `max_features=1.0'`.\n",
      "`max_features='auto'` has been deprecated in 1.1 and will be removed in 1.3. To keep the past behaviour, explicitly set `max_features=1.0'`.\n",
      "`max_features='auto'` has been deprecated in 1.1 and will be removed in 1.3. To keep the past behaviour, explicitly set `max_features=1.0'`.\n",
      "`max_features='auto'` has been deprecated in 1.1 and will be removed in 1.3. To keep the past behaviour, explicitly set `max_features=1.0'`.\n",
      "`max_features='auto'` has been deprecated in 1.1 and will be removed in 1.3. To keep the past behaviour, explicitly set `max_features=1.0'`.\n",
      "`max_features='auto'` has been deprecated in 1.1 and will be removed in 1.3. To keep the past behaviour, explicitly set `max_features=1.0'`.\n",
      "`max_features='auto'` has been deprecated in 1.1 and will be removed in 1.3. To keep the past behaviour, explicitly set `max_features=1.0'`.\n",
      "`max_features='auto'` has been deprecated in 1.1 and will be removed in 1.3. To keep the past behaviour, explicitly set `max_features=1.0'`.\n",
      "`max_features='auto'` has been deprecated in 1.1 and will be removed in 1.3. To keep the past behaviour, explicitly set `max_features=1.0'`.\n",
      "`max_features='auto'` has been deprecated in 1.1 and will be removed in 1.3. To keep the past behaviour, explicitly set `max_features=1.0'`.\n",
      "`max_features='auto'` has been deprecated in 1.1 and will be removed in 1.3. To keep the past behaviour, explicitly set `max_features=1.0'`.\n",
      "`max_features='auto'` has been deprecated in 1.1 and will be removed in 1.3. To keep the past behaviour, explicitly set `max_features=1.0'`.\n",
      "`max_features='auto'` has been deprecated in 1.1 and will be removed in 1.3. To keep the past behaviour, explicitly set `max_features=1.0'`.\n",
      "`max_features='auto'` has been deprecated in 1.1 and will be removed in 1.3. To keep the past behaviour, explicitly set `max_features=1.0'`.\n",
      "`max_features='auto'` has been deprecated in 1.1 and will be removed in 1.3. To keep the past behaviour, explicitly set `max_features=1.0'`.\n",
      "`max_features='auto'` has been deprecated in 1.1 and will be removed in 1.3. To keep the past behaviour, explicitly set `max_features=1.0'`.\n",
      "`max_features='auto'` has been deprecated in 1.1 and will be removed in 1.3. To keep the past behaviour, explicitly set `max_features=1.0'`.\n",
      "`max_features='auto'` has been deprecated in 1.1 and will be removed in 1.3. To keep the past behaviour, explicitly set `max_features=1.0'`.\n",
      "`max_features='auto'` has been deprecated in 1.1 and will be removed in 1.3. To keep the past behaviour, explicitly set `max_features=1.0'`.\n",
      "`max_features='auto'` has been deprecated in 1.1 and will be removed in 1.3. To keep the past behaviour, explicitly set `max_features=1.0'`.\n",
      "`max_features='auto'` has been deprecated in 1.1 and will be removed in 1.3. To keep the past behaviour, explicitly set `max_features=1.0'`.\n",
      "`max_features='auto'` has been deprecated in 1.1 and will be removed in 1.3. To keep the past behaviour, explicitly set `max_features=1.0'`.\n",
      "`max_features='auto'` has been deprecated in 1.1 and will be removed in 1.3. To keep the past behaviour, explicitly set `max_features=1.0'`.\n",
      "`max_features='auto'` has been deprecated in 1.1 and will be removed in 1.3. To keep the past behaviour, explicitly set `max_features=1.0'`.\n",
      "`max_features='auto'` has been deprecated in 1.1 and will be removed in 1.3. To keep the past behaviour, explicitly set `max_features=1.0'`.\n",
      "`max_features='auto'` has been deprecated in 1.1 and will be removed in 1.3. To keep the past behaviour, explicitly set `max_features=1.0'`.\n"
     ]
    }
   ],
   "source": [
    "bayes_gradient = BayesSearchCV(GradientBoostingRegressor(),config['gradient_boosting'],\n",
    "        cv = config['cv'], verbose = config['verbose'],n_jobs=config['n_jobs'],\n",
    "                               random_state=config['random_state']).fit(X_train, y_train.values.ravel())"
   ]
  },
  {
   "cell_type": "code",
   "execution_count": 42,
   "id": "1fc5880d",
   "metadata": {},
   "outputs": [
    {
     "data": {
      "text/html": [
       "<style>#sk-container-id-6 {color: black;background-color: white;}#sk-container-id-6 pre{padding: 0;}#sk-container-id-6 div.sk-toggleable {background-color: white;}#sk-container-id-6 label.sk-toggleable__label {cursor: pointer;display: block;width: 100%;margin-bottom: 0;padding: 0.3em;box-sizing: border-box;text-align: center;}#sk-container-id-6 label.sk-toggleable__label-arrow:before {content: \"▸\";float: left;margin-right: 0.25em;color: #696969;}#sk-container-id-6 label.sk-toggleable__label-arrow:hover:before {color: black;}#sk-container-id-6 div.sk-estimator:hover label.sk-toggleable__label-arrow:before {color: black;}#sk-container-id-6 div.sk-toggleable__content {max-height: 0;max-width: 0;overflow: hidden;text-align: left;background-color: #f0f8ff;}#sk-container-id-6 div.sk-toggleable__content pre {margin: 0.2em;color: black;border-radius: 0.25em;background-color: #f0f8ff;}#sk-container-id-6 input.sk-toggleable__control:checked~div.sk-toggleable__content {max-height: 200px;max-width: 100%;overflow: auto;}#sk-container-id-6 input.sk-toggleable__control:checked~label.sk-toggleable__label-arrow:before {content: \"▾\";}#sk-container-id-6 div.sk-estimator input.sk-toggleable__control:checked~label.sk-toggleable__label {background-color: #d4ebff;}#sk-container-id-6 div.sk-label input.sk-toggleable__control:checked~label.sk-toggleable__label {background-color: #d4ebff;}#sk-container-id-6 input.sk-hidden--visually {border: 0;clip: rect(1px 1px 1px 1px);clip: rect(1px, 1px, 1px, 1px);height: 1px;margin: -1px;overflow: hidden;padding: 0;position: absolute;width: 1px;}#sk-container-id-6 div.sk-estimator {font-family: monospace;background-color: #f0f8ff;border: 1px dotted black;border-radius: 0.25em;box-sizing: border-box;margin-bottom: 0.5em;}#sk-container-id-6 div.sk-estimator:hover {background-color: #d4ebff;}#sk-container-id-6 div.sk-parallel-item::after {content: \"\";width: 100%;border-bottom: 1px solid gray;flex-grow: 1;}#sk-container-id-6 div.sk-label:hover label.sk-toggleable__label {background-color: #d4ebff;}#sk-container-id-6 div.sk-serial::before {content: \"\";position: absolute;border-left: 1px solid gray;box-sizing: border-box;top: 0;bottom: 0;left: 50%;z-index: 0;}#sk-container-id-6 div.sk-serial {display: flex;flex-direction: column;align-items: center;background-color: white;padding-right: 0.2em;padding-left: 0.2em;position: relative;}#sk-container-id-6 div.sk-item {position: relative;z-index: 1;}#sk-container-id-6 div.sk-parallel {display: flex;align-items: stretch;justify-content: center;background-color: white;position: relative;}#sk-container-id-6 div.sk-item::before, #sk-container-id-6 div.sk-parallel-item::before {content: \"\";position: absolute;border-left: 1px solid gray;box-sizing: border-box;top: 0;bottom: 0;left: 50%;z-index: -1;}#sk-container-id-6 div.sk-parallel-item {display: flex;flex-direction: column;z-index: 1;position: relative;background-color: white;}#sk-container-id-6 div.sk-parallel-item:first-child::after {align-self: flex-end;width: 50%;}#sk-container-id-6 div.sk-parallel-item:last-child::after {align-self: flex-start;width: 50%;}#sk-container-id-6 div.sk-parallel-item:only-child::after {width: 0;}#sk-container-id-6 div.sk-dashed-wrapped {border: 1px dashed gray;margin: 0 0.4em 0.5em 0.4em;box-sizing: border-box;padding-bottom: 0.4em;background-color: white;}#sk-container-id-6 div.sk-label label {font-family: monospace;font-weight: bold;display: inline-block;line-height: 1.2em;}#sk-container-id-6 div.sk-label-container {text-align: center;}#sk-container-id-6 div.sk-container {/* jupyter's `normalize.less` sets `[hidden] { display: none; }` but bootstrap.min.css set `[hidden] { display: none !important; }` so we also need the `!important` here to be able to override the default hidden behavior on the sphinx rendered scikit-learn.org. See: https://github.com/scikit-learn/scikit-learn/issues/21755 */display: inline-block !important;position: relative;}#sk-container-id-6 div.sk-text-repr-fallback {display: none;}</style><div id=\"sk-container-id-6\" class=\"sk-top-container\"><div class=\"sk-text-repr-fallback\"><pre>GradientBoostingRegressor(criterion=&#x27;squared_error&#x27;, loss=&#x27;huber&#x27;,\n",
       "                          max_features=&#x27;auto&#x27;, min_samples_leaf=2,\n",
       "                          min_samples_split=10)</pre><b>In a Jupyter environment, please rerun this cell to show the HTML representation or trust the notebook. <br />On GitHub, the HTML representation is unable to render, please try loading this page with nbviewer.org.</b></div><div class=\"sk-container\" hidden><div class=\"sk-item\"><div class=\"sk-estimator sk-toggleable\"><input class=\"sk-toggleable__control sk-hidden--visually\" id=\"sk-estimator-id-6\" type=\"checkbox\" checked><label for=\"sk-estimator-id-6\" class=\"sk-toggleable__label sk-toggleable__label-arrow\">GradientBoostingRegressor</label><div class=\"sk-toggleable__content\"><pre>GradientBoostingRegressor(criterion=&#x27;squared_error&#x27;, loss=&#x27;huber&#x27;,\n",
       "                          max_features=&#x27;auto&#x27;, min_samples_leaf=2,\n",
       "                          min_samples_split=10)</pre></div></div></div></div></div>"
      ],
      "text/plain": [
       "GradientBoostingRegressor(criterion='squared_error', loss='huber',\n",
       "                          max_features='auto', min_samples_leaf=2,\n",
       "                          min_samples_split=10)"
      ]
     },
     "execution_count": 42,
     "metadata": {},
     "output_type": "execute_result"
    }
   ],
   "source": [
    "top_bayes_gradient = bayes_gradient.best_estimator_\n",
    "top_bayes_gradient"
   ]
  },
  {
   "cell_type": "code",
   "execution_count": 43,
   "id": "290835ff",
   "metadata": {},
   "outputs": [],
   "source": [
    "with open(config['models']+'top_model_gradient_boosting_with_bayes.pkl', 'wb') as file:\n",
    "    pickle.dump(top_grid_forest, file)"
   ]
  },
  {
   "cell_type": "markdown",
   "id": "606ce529",
   "metadata": {},
   "source": [
    "### Testing performance of Gradient Boosting"
   ]
  },
  {
   "cell_type": "code",
   "execution_count": 44,
   "id": "77cbbd13",
   "metadata": {},
   "outputs": [],
   "source": [
    "y_pred_train_bayes_gradient = top_bayes_gradient.predict(X_train)\n",
    "y_pred_test_bayes_gradient = top_bayes_gradient.predict(X_test)"
   ]
  },
  {
   "cell_type": "code",
   "execution_count": 45,
   "id": "8ed21a47",
   "metadata": {},
   "outputs": [
    {
     "data": {
      "text/html": [
       "<div>\n",
       "<style scoped>\n",
       "    .dataframe tbody tr th:only-of-type {\n",
       "        vertical-align: middle;\n",
       "    }\n",
       "\n",
       "    .dataframe tbody tr th {\n",
       "        vertical-align: top;\n",
       "    }\n",
       "\n",
       "    .dataframe thead th {\n",
       "        text-align: right;\n",
       "    }\n",
       "</style>\n",
       "<table border=\"1\" class=\"dataframe\">\n",
       "  <thead>\n",
       "    <tr style=\"text-align: right;\">\n",
       "      <th></th>\n",
       "      <th>Error_metric</th>\n",
       "      <th>Train</th>\n",
       "      <th>Test</th>\n",
       "    </tr>\n",
       "  </thead>\n",
       "  <tbody>\n",
       "    <tr>\n",
       "      <th>0</th>\n",
       "      <td>Mean error</td>\n",
       "      <td>628.03</td>\n",
       "      <td>2400.89</td>\n",
       "    </tr>\n",
       "    <tr>\n",
       "      <th>1</th>\n",
       "      <td>Mean absolute error</td>\n",
       "      <td>14954.93</td>\n",
       "      <td>23243.00</td>\n",
       "    </tr>\n",
       "    <tr>\n",
       "      <th>2</th>\n",
       "      <td>Mean squared error</td>\n",
       "      <td>410619191.55</td>\n",
       "      <td>842466785.04</td>\n",
       "    </tr>\n",
       "    <tr>\n",
       "      <th>3</th>\n",
       "      <td>Root mean squared error</td>\n",
       "      <td>20263.74</td>\n",
       "      <td>29025.28</td>\n",
       "    </tr>\n",
       "    <tr>\n",
       "      <th>4</th>\n",
       "      <td>Mean absolute percentual error</td>\n",
       "      <td>34.33</td>\n",
       "      <td>30.45</td>\n",
       "    </tr>\n",
       "    <tr>\n",
       "      <th>5</th>\n",
       "      <td>R2</td>\n",
       "      <td>0.63</td>\n",
       "      <td>0.11</td>\n",
       "    </tr>\n",
       "  </tbody>\n",
       "</table>\n",
       "</div>"
      ],
      "text/plain": [
       "                     Error_metric        Train         Test\n",
       "0                      Mean error       628.03      2400.89\n",
       "1             Mean absolute error     14954.93     23243.00\n",
       "2              Mean squared error 410619191.55 842466785.04\n",
       "3         Root mean squared error     20263.74     29025.28\n",
       "4  Mean absolute percentual error        34.33        30.45\n",
       "5                              R2         0.63         0.11"
      ]
     },
     "execution_count": 45,
     "metadata": {},
     "output_type": "execute_result"
    }
   ],
   "source": [
    "y_train_performance_bayes_gradient = np.array(y_train).reshape(-1,1)\n",
    "y_test_performance_bayes_gradient  = np.array(y_test).reshape(-1,1)\n",
    "\n",
    "results_bayes_gradient, df1_bayes_gradient, df2_bayes_gradient = fn.model_performance(y_train_performance_bayes_gradient, \n",
    "                                                                                      y_pred_train_bayes_gradient, \n",
    "                                                                                      y_test_performance_bayes_gradient, \n",
    "                                                                                      y_pred_test_bayes_gradient)\n",
    "results_bayes_gradient"
   ]
  },
  {
   "cell_type": "markdown",
   "id": "120b4b3c",
   "metadata": {},
   "source": [
    "### 4.2.Grid Search of Gradient Boosting"
   ]
  },
  {
   "cell_type": "code",
   "execution_count": 46,
   "id": "89e2ee4f",
   "metadata": {},
   "outputs": [
    {
     "name": "stdout",
     "output_type": "stream",
     "text": [
      "Fitting 5 folds for each of 2592 candidates, totalling 12960 fits\n"
     ]
    },
    {
     "name": "stderr",
     "output_type": "stream",
     "text": [
      "`max_features='auto'` has been deprecated in 1.1 and will be removed in 1.3. To keep the past behaviour, explicitly set `max_features=1.0'`.\n",
      "`max_features='auto'` has been deprecated in 1.1 and will be removed in 1.3. To keep the past behaviour, explicitly set `max_features=1.0'`.\n",
      "`max_features='auto'` has been deprecated in 1.1 and will be removed in 1.3. To keep the past behaviour, explicitly set `max_features=1.0'`.\n",
      "`max_features='auto'` has been deprecated in 1.1 and will be removed in 1.3. To keep the past behaviour, explicitly set `max_features=1.0'`.\n",
      "`max_features='auto'` has been deprecated in 1.1 and will be removed in 1.3. To keep the past behaviour, explicitly set `max_features=1.0'`.\n",
      "`max_features='auto'` has been deprecated in 1.1 and will be removed in 1.3. To keep the past behaviour, explicitly set `max_features=1.0'`.\n",
      "`max_features='auto'` has been deprecated in 1.1 and will be removed in 1.3. To keep the past behaviour, explicitly set `max_features=1.0'`.\n",
      "`max_features='auto'` has been deprecated in 1.1 and will be removed in 1.3. To keep the past behaviour, explicitly set `max_features=1.0'`.\n",
      "`max_features='auto'` has been deprecated in 1.1 and will be removed in 1.3. To keep the past behaviour, explicitly set `max_features=1.0'`.\n",
      "`max_features='auto'` has been deprecated in 1.1 and will be removed in 1.3. To keep the past behaviour, explicitly set `max_features=1.0'`.\n",
      "`max_features='auto'` has been deprecated in 1.1 and will be removed in 1.3. To keep the past behaviour, explicitly set `max_features=1.0'`.\n",
      "`max_features='auto'` has been deprecated in 1.1 and will be removed in 1.3. To keep the past behaviour, explicitly set `max_features=1.0'`.\n",
      "`max_features='auto'` has been deprecated in 1.1 and will be removed in 1.3. To keep the past behaviour, explicitly set `max_features=1.0'`.\n",
      "`max_features='auto'` has been deprecated in 1.1 and will be removed in 1.3. To keep the past behaviour, explicitly set `max_features=1.0'`.\n",
      "`max_features='auto'` has been deprecated in 1.1 and will be removed in 1.3. To keep the past behaviour, explicitly set `max_features=1.0'`.\n",
      "`max_features='auto'` has been deprecated in 1.1 and will be removed in 1.3. To keep the past behaviour, explicitly set `max_features=1.0'`.\n",
      "`max_features='auto'` has been deprecated in 1.1 and will be removed in 1.3. To keep the past behaviour, explicitly set `max_features=1.0'`.\n",
      "`max_features='auto'` has been deprecated in 1.1 and will be removed in 1.3. To keep the past behaviour, explicitly set `max_features=1.0'`.\n",
      "`max_features='auto'` has been deprecated in 1.1 and will be removed in 1.3. To keep the past behaviour, explicitly set `max_features=1.0'`.\n",
      "`max_features='auto'` has been deprecated in 1.1 and will be removed in 1.3. To keep the past behaviour, explicitly set `max_features=1.0'`.\n",
      "`max_features='auto'` has been deprecated in 1.1 and will be removed in 1.3. To keep the past behaviour, explicitly set `max_features=1.0'`.\n",
      "`max_features='auto'` has been deprecated in 1.1 and will be removed in 1.3. To keep the past behaviour, explicitly set `max_features=1.0'`.\n",
      "`max_features='auto'` has been deprecated in 1.1 and will be removed in 1.3. To keep the past behaviour, explicitly set `max_features=1.0'`.\n",
      "`max_features='auto'` has been deprecated in 1.1 and will be removed in 1.3. To keep the past behaviour, explicitly set `max_features=1.0'`.\n",
      "`max_features='auto'` has been deprecated in 1.1 and will be removed in 1.3. To keep the past behaviour, explicitly set `max_features=1.0'`.\n",
      "`max_features='auto'` has been deprecated in 1.1 and will be removed in 1.3. To keep the past behaviour, explicitly set `max_features=1.0'`.\n",
      "`max_features='auto'` has been deprecated in 1.1 and will be removed in 1.3. To keep the past behaviour, explicitly set `max_features=1.0'`.\n",
      "`max_features='auto'` has been deprecated in 1.1 and will be removed in 1.3. To keep the past behaviour, explicitly set `max_features=1.0'`.\n",
      "`max_features='auto'` has been deprecated in 1.1 and will be removed in 1.3. To keep the past behaviour, explicitly set `max_features=1.0'`.\n",
      "`max_features='auto'` has been deprecated in 1.1 and will be removed in 1.3. To keep the past behaviour, explicitly set `max_features=1.0'`.\n",
      "`max_features='auto'` has been deprecated in 1.1 and will be removed in 1.3. To keep the past behaviour, explicitly set `max_features=1.0'`.\n",
      "`max_features='auto'` has been deprecated in 1.1 and will be removed in 1.3. To keep the past behaviour, explicitly set `max_features=1.0'`.\n",
      "`max_features='auto'` has been deprecated in 1.1 and will be removed in 1.3. To keep the past behaviour, explicitly set `max_features=1.0'`.\n",
      "`max_features='auto'` has been deprecated in 1.1 and will be removed in 1.3. To keep the past behaviour, explicitly set `max_features=1.0'`.\n",
      "`max_features='auto'` has been deprecated in 1.1 and will be removed in 1.3. To keep the past behaviour, explicitly set `max_features=1.0'`.\n",
      "`max_features='auto'` has been deprecated in 1.1 and will be removed in 1.3. To keep the past behaviour, explicitly set `max_features=1.0'`.\n",
      "`max_features='auto'` has been deprecated in 1.1 and will be removed in 1.3. To keep the past behaviour, explicitly set `max_features=1.0'`.\n",
      "`max_features='auto'` has been deprecated in 1.1 and will be removed in 1.3. To keep the past behaviour, explicitly set `max_features=1.0'`.\n",
      "`max_features='auto'` has been deprecated in 1.1 and will be removed in 1.3. To keep the past behaviour, explicitly set `max_features=1.0'`.\n",
      "`max_features='auto'` has been deprecated in 1.1 and will be removed in 1.3. To keep the past behaviour, explicitly set `max_features=1.0'`.\n",
      "`max_features='auto'` has been deprecated in 1.1 and will be removed in 1.3. To keep the past behaviour, explicitly set `max_features=1.0'`.\n",
      "`max_features='auto'` has been deprecated in 1.1 and will be removed in 1.3. To keep the past behaviour, explicitly set `max_features=1.0'`.\n",
      "`max_features='auto'` has been deprecated in 1.1 and will be removed in 1.3. To keep the past behaviour, explicitly set `max_features=1.0'`.\n",
      "`max_features='auto'` has been deprecated in 1.1 and will be removed in 1.3. To keep the past behaviour, explicitly set `max_features=1.0'`.\n",
      "`max_features='auto'` has been deprecated in 1.1 and will be removed in 1.3. To keep the past behaviour, explicitly set `max_features=1.0'`.\n",
      "`max_features='auto'` has been deprecated in 1.1 and will be removed in 1.3. To keep the past behaviour, explicitly set `max_features=1.0'`.\n",
      "`max_features='auto'` has been deprecated in 1.1 and will be removed in 1.3. To keep the past behaviour, explicitly set `max_features=1.0'`.\n",
      "`max_features='auto'` has been deprecated in 1.1 and will be removed in 1.3. To keep the past behaviour, explicitly set `max_features=1.0'`.\n",
      "`max_features='auto'` has been deprecated in 1.1 and will be removed in 1.3. To keep the past behaviour, explicitly set `max_features=1.0'`.\n",
      "`max_features='auto'` has been deprecated in 1.1 and will be removed in 1.3. To keep the past behaviour, explicitly set `max_features=1.0'`.\n",
      "`max_features='auto'` has been deprecated in 1.1 and will be removed in 1.3. To keep the past behaviour, explicitly set `max_features=1.0'`.\n",
      "`max_features='auto'` has been deprecated in 1.1 and will be removed in 1.3. To keep the past behaviour, explicitly set `max_features=1.0'`.\n",
      "`max_features='auto'` has been deprecated in 1.1 and will be removed in 1.3. To keep the past behaviour, explicitly set `max_features=1.0'`.\n",
      "`max_features='auto'` has been deprecated in 1.1 and will be removed in 1.3. To keep the past behaviour, explicitly set `max_features=1.0'`.\n",
      "`max_features='auto'` has been deprecated in 1.1 and will be removed in 1.3. To keep the past behaviour, explicitly set `max_features=1.0'`.\n",
      "`max_features='auto'` has been deprecated in 1.1 and will be removed in 1.3. To keep the past behaviour, explicitly set `max_features=1.0'`.\n",
      "`max_features='auto'` has been deprecated in 1.1 and will be removed in 1.3. To keep the past behaviour, explicitly set `max_features=1.0'`.\n",
      "`max_features='auto'` has been deprecated in 1.1 and will be removed in 1.3. To keep the past behaviour, explicitly set `max_features=1.0'`.\n",
      "`max_features='auto'` has been deprecated in 1.1 and will be removed in 1.3. To keep the past behaviour, explicitly set `max_features=1.0'`.\n",
      "`max_features='auto'` has been deprecated in 1.1 and will be removed in 1.3. To keep the past behaviour, explicitly set `max_features=1.0'`.\n",
      "`max_features='auto'` has been deprecated in 1.1 and will be removed in 1.3. To keep the past behaviour, explicitly set `max_features=1.0'`.\n",
      "`max_features='auto'` has been deprecated in 1.1 and will be removed in 1.3. To keep the past behaviour, explicitly set `max_features=1.0'`.\n",
      "`max_features='auto'` has been deprecated in 1.1 and will be removed in 1.3. To keep the past behaviour, explicitly set `max_features=1.0'`.\n",
      "`max_features='auto'` has been deprecated in 1.1 and will be removed in 1.3. To keep the past behaviour, explicitly set `max_features=1.0'`.\n",
      "`max_features='auto'` has been deprecated in 1.1 and will be removed in 1.3. To keep the past behaviour, explicitly set `max_features=1.0'`.\n",
      "`max_features='auto'` has been deprecated in 1.1 and will be removed in 1.3. To keep the past behaviour, explicitly set `max_features=1.0'`.\n",
      "`max_features='auto'` has been deprecated in 1.1 and will be removed in 1.3. To keep the past behaviour, explicitly set `max_features=1.0'`.\n",
      "`max_features='auto'` has been deprecated in 1.1 and will be removed in 1.3. To keep the past behaviour, explicitly set `max_features=1.0'`.\n",
      "`max_features='auto'` has been deprecated in 1.1 and will be removed in 1.3. To keep the past behaviour, explicitly set `max_features=1.0'`.\n",
      "`max_features='auto'` has been deprecated in 1.1 and will be removed in 1.3. To keep the past behaviour, explicitly set `max_features=1.0'`.\n",
      "`max_features='auto'` has been deprecated in 1.1 and will be removed in 1.3. To keep the past behaviour, explicitly set `max_features=1.0'`.\n"
     ]
    },
    {
     "name": "stderr",
     "output_type": "stream",
     "text": [
      "`max_features='auto'` has been deprecated in 1.1 and will be removed in 1.3. To keep the past behaviour, explicitly set `max_features=1.0'`.\n",
      "`max_features='auto'` has been deprecated in 1.1 and will be removed in 1.3. To keep the past behaviour, explicitly set `max_features=1.0'`.\n",
      "`max_features='auto'` has been deprecated in 1.1 and will be removed in 1.3. To keep the past behaviour, explicitly set `max_features=1.0'`.\n",
      "`max_features='auto'` has been deprecated in 1.1 and will be removed in 1.3. To keep the past behaviour, explicitly set `max_features=1.0'`.\n",
      "`max_features='auto'` has been deprecated in 1.1 and will be removed in 1.3. To keep the past behaviour, explicitly set `max_features=1.0'`.\n",
      "`max_features='auto'` has been deprecated in 1.1 and will be removed in 1.3. To keep the past behaviour, explicitly set `max_features=1.0'`.\n",
      "`max_features='auto'` has been deprecated in 1.1 and will be removed in 1.3. To keep the past behaviour, explicitly set `max_features=1.0'`.\n",
      "`max_features='auto'` has been deprecated in 1.1 and will be removed in 1.3. To keep the past behaviour, explicitly set `max_features=1.0'`.\n",
      "`max_features='auto'` has been deprecated in 1.1 and will be removed in 1.3. To keep the past behaviour, explicitly set `max_features=1.0'`.\n",
      "`max_features='auto'` has been deprecated in 1.1 and will be removed in 1.3. To keep the past behaviour, explicitly set `max_features=1.0'`.\n",
      "`max_features='auto'` has been deprecated in 1.1 and will be removed in 1.3. To keep the past behaviour, explicitly set `max_features=1.0'`.\n",
      "`max_features='auto'` has been deprecated in 1.1 and will be removed in 1.3. To keep the past behaviour, explicitly set `max_features=1.0'`.\n",
      "`max_features='auto'` has been deprecated in 1.1 and will be removed in 1.3. To keep the past behaviour, explicitly set `max_features=1.0'`.\n",
      "`max_features='auto'` has been deprecated in 1.1 and will be removed in 1.3. To keep the past behaviour, explicitly set `max_features=1.0'`.\n",
      "`max_features='auto'` has been deprecated in 1.1 and will be removed in 1.3. To keep the past behaviour, explicitly set `max_features=1.0'`.\n",
      "`max_features='auto'` has been deprecated in 1.1 and will be removed in 1.3. To keep the past behaviour, explicitly set `max_features=1.0'`.\n",
      "`max_features='auto'` has been deprecated in 1.1 and will be removed in 1.3. To keep the past behaviour, explicitly set `max_features=1.0'`.\n",
      "`max_features='auto'` has been deprecated in 1.1 and will be removed in 1.3. To keep the past behaviour, explicitly set `max_features=1.0'`.\n",
      "`max_features='auto'` has been deprecated in 1.1 and will be removed in 1.3. To keep the past behaviour, explicitly set `max_features=1.0'`.\n",
      "`max_features='auto'` has been deprecated in 1.1 and will be removed in 1.3. To keep the past behaviour, explicitly set `max_features=1.0'`.\n",
      "`max_features='auto'` has been deprecated in 1.1 and will be removed in 1.3. To keep the past behaviour, explicitly set `max_features=1.0'`.\n",
      "`max_features='auto'` has been deprecated in 1.1 and will be removed in 1.3. To keep the past behaviour, explicitly set `max_features=1.0'`.\n",
      "`max_features='auto'` has been deprecated in 1.1 and will be removed in 1.3. To keep the past behaviour, explicitly set `max_features=1.0'`.\n",
      "`max_features='auto'` has been deprecated in 1.1 and will be removed in 1.3. To keep the past behaviour, explicitly set `max_features=1.0'`.\n",
      "`max_features='auto'` has been deprecated in 1.1 and will be removed in 1.3. To keep the past behaviour, explicitly set `max_features=1.0'`.\n",
      "`max_features='auto'` has been deprecated in 1.1 and will be removed in 1.3. To keep the past behaviour, explicitly set `max_features=1.0'`.\n",
      "`max_features='auto'` has been deprecated in 1.1 and will be removed in 1.3. To keep the past behaviour, explicitly set `max_features=1.0'`.\n",
      "`max_features='auto'` has been deprecated in 1.1 and will be removed in 1.3. To keep the past behaviour, explicitly set `max_features=1.0'`.\n",
      "`max_features='auto'` has been deprecated in 1.1 and will be removed in 1.3. To keep the past behaviour, explicitly set `max_features=1.0'`.\n"
     ]
    }
   ],
   "source": [
    "grid_gradient = GridSearchCV(GradientBoostingRegressor(),config['gradient_boosting'],\n",
    "                           cv = config['cv'], verbose = config['verbose'],\n",
    "                           n_jobs=config['n_jobs']).fit(X_train, y_train.values.ravel())"
   ]
  },
  {
   "cell_type": "code",
   "execution_count": 47,
   "id": "2e8a657b",
   "metadata": {},
   "outputs": [
    {
     "data": {
      "text/html": [
       "<style>#sk-container-id-7 {color: black;background-color: white;}#sk-container-id-7 pre{padding: 0;}#sk-container-id-7 div.sk-toggleable {background-color: white;}#sk-container-id-7 label.sk-toggleable__label {cursor: pointer;display: block;width: 100%;margin-bottom: 0;padding: 0.3em;box-sizing: border-box;text-align: center;}#sk-container-id-7 label.sk-toggleable__label-arrow:before {content: \"▸\";float: left;margin-right: 0.25em;color: #696969;}#sk-container-id-7 label.sk-toggleable__label-arrow:hover:before {color: black;}#sk-container-id-7 div.sk-estimator:hover label.sk-toggleable__label-arrow:before {color: black;}#sk-container-id-7 div.sk-toggleable__content {max-height: 0;max-width: 0;overflow: hidden;text-align: left;background-color: #f0f8ff;}#sk-container-id-7 div.sk-toggleable__content pre {margin: 0.2em;color: black;border-radius: 0.25em;background-color: #f0f8ff;}#sk-container-id-7 input.sk-toggleable__control:checked~div.sk-toggleable__content {max-height: 200px;max-width: 100%;overflow: auto;}#sk-container-id-7 input.sk-toggleable__control:checked~label.sk-toggleable__label-arrow:before {content: \"▾\";}#sk-container-id-7 div.sk-estimator input.sk-toggleable__control:checked~label.sk-toggleable__label {background-color: #d4ebff;}#sk-container-id-7 div.sk-label input.sk-toggleable__control:checked~label.sk-toggleable__label {background-color: #d4ebff;}#sk-container-id-7 input.sk-hidden--visually {border: 0;clip: rect(1px 1px 1px 1px);clip: rect(1px, 1px, 1px, 1px);height: 1px;margin: -1px;overflow: hidden;padding: 0;position: absolute;width: 1px;}#sk-container-id-7 div.sk-estimator {font-family: monospace;background-color: #f0f8ff;border: 1px dotted black;border-radius: 0.25em;box-sizing: border-box;margin-bottom: 0.5em;}#sk-container-id-7 div.sk-estimator:hover {background-color: #d4ebff;}#sk-container-id-7 div.sk-parallel-item::after {content: \"\";width: 100%;border-bottom: 1px solid gray;flex-grow: 1;}#sk-container-id-7 div.sk-label:hover label.sk-toggleable__label {background-color: #d4ebff;}#sk-container-id-7 div.sk-serial::before {content: \"\";position: absolute;border-left: 1px solid gray;box-sizing: border-box;top: 0;bottom: 0;left: 50%;z-index: 0;}#sk-container-id-7 div.sk-serial {display: flex;flex-direction: column;align-items: center;background-color: white;padding-right: 0.2em;padding-left: 0.2em;position: relative;}#sk-container-id-7 div.sk-item {position: relative;z-index: 1;}#sk-container-id-7 div.sk-parallel {display: flex;align-items: stretch;justify-content: center;background-color: white;position: relative;}#sk-container-id-7 div.sk-item::before, #sk-container-id-7 div.sk-parallel-item::before {content: \"\";position: absolute;border-left: 1px solid gray;box-sizing: border-box;top: 0;bottom: 0;left: 50%;z-index: -1;}#sk-container-id-7 div.sk-parallel-item {display: flex;flex-direction: column;z-index: 1;position: relative;background-color: white;}#sk-container-id-7 div.sk-parallel-item:first-child::after {align-self: flex-end;width: 50%;}#sk-container-id-7 div.sk-parallel-item:last-child::after {align-self: flex-start;width: 50%;}#sk-container-id-7 div.sk-parallel-item:only-child::after {width: 0;}#sk-container-id-7 div.sk-dashed-wrapped {border: 1px dashed gray;margin: 0 0.4em 0.5em 0.4em;box-sizing: border-box;padding-bottom: 0.4em;background-color: white;}#sk-container-id-7 div.sk-label label {font-family: monospace;font-weight: bold;display: inline-block;line-height: 1.2em;}#sk-container-id-7 div.sk-label-container {text-align: center;}#sk-container-id-7 div.sk-container {/* jupyter's `normalize.less` sets `[hidden] { display: none; }` but bootstrap.min.css set `[hidden] { display: none !important; }` so we also need the `!important` here to be able to override the default hidden behavior on the sphinx rendered scikit-learn.org. See: https://github.com/scikit-learn/scikit-learn/issues/21755 */display: inline-block !important;position: relative;}#sk-container-id-7 div.sk-text-repr-fallback {display: none;}</style><div id=\"sk-container-id-7\" class=\"sk-top-container\"><div class=\"sk-text-repr-fallback\"><pre>GradientBoostingRegressor(criterion=&#x27;squared_error&#x27;, loss=&#x27;absolute_error&#x27;,\n",
       "                          max_depth=5, max_features=&#x27;auto&#x27;, min_samples_leaf=5,\n",
       "                          min_samples_split=10)</pre><b>In a Jupyter environment, please rerun this cell to show the HTML representation or trust the notebook. <br />On GitHub, the HTML representation is unable to render, please try loading this page with nbviewer.org.</b></div><div class=\"sk-container\" hidden><div class=\"sk-item\"><div class=\"sk-estimator sk-toggleable\"><input class=\"sk-toggleable__control sk-hidden--visually\" id=\"sk-estimator-id-7\" type=\"checkbox\" checked><label for=\"sk-estimator-id-7\" class=\"sk-toggleable__label sk-toggleable__label-arrow\">GradientBoostingRegressor</label><div class=\"sk-toggleable__content\"><pre>GradientBoostingRegressor(criterion=&#x27;squared_error&#x27;, loss=&#x27;absolute_error&#x27;,\n",
       "                          max_depth=5, max_features=&#x27;auto&#x27;, min_samples_leaf=5,\n",
       "                          min_samples_split=10)</pre></div></div></div></div></div>"
      ],
      "text/plain": [
       "GradientBoostingRegressor(criterion='squared_error', loss='absolute_error',\n",
       "                          max_depth=5, max_features='auto', min_samples_leaf=5,\n",
       "                          min_samples_split=10)"
      ]
     },
     "execution_count": 47,
     "metadata": {},
     "output_type": "execute_result"
    }
   ],
   "source": [
    "top_grid_gradient = grid_gradient.best_estimator_\n",
    "top_grid_gradient"
   ]
  },
  {
   "cell_type": "code",
   "execution_count": 48,
   "id": "dbff9b76",
   "metadata": {},
   "outputs": [],
   "source": [
    "with open(config['models']+'top_model_gradient_boosting_with_grid.pkl', 'wb') as file:\n",
    "    pickle.dump(top_grid_forest, file)"
   ]
  },
  {
   "cell_type": "markdown",
   "id": "ea7c233a",
   "metadata": {},
   "source": [
    "### Testing performance of Gradient Boosting with Grid Search"
   ]
  },
  {
   "cell_type": "code",
   "execution_count": 49,
   "id": "fbd2c6e7",
   "metadata": {},
   "outputs": [],
   "source": [
    "y_pred_train_grid_gradient = top_grid_gradient.predict(X_train)\n",
    "y_pred_test_grid_gradient = top_grid_gradient.predict(X_test)"
   ]
  },
  {
   "cell_type": "code",
   "execution_count": 50,
   "id": "015cf560",
   "metadata": {},
   "outputs": [
    {
     "data": {
      "text/html": [
       "<div>\n",
       "<style scoped>\n",
       "    .dataframe tbody tr th:only-of-type {\n",
       "        vertical-align: middle;\n",
       "    }\n",
       "\n",
       "    .dataframe tbody tr th {\n",
       "        vertical-align: top;\n",
       "    }\n",
       "\n",
       "    .dataframe thead th {\n",
       "        text-align: right;\n",
       "    }\n",
       "</style>\n",
       "<table border=\"1\" class=\"dataframe\">\n",
       "  <thead>\n",
       "    <tr style=\"text-align: right;\">\n",
       "      <th></th>\n",
       "      <th>Error_metric</th>\n",
       "      <th>Train</th>\n",
       "      <th>Test</th>\n",
       "    </tr>\n",
       "  </thead>\n",
       "  <tbody>\n",
       "    <tr>\n",
       "      <th>0</th>\n",
       "      <td>Mean error</td>\n",
       "      <td>2244.51</td>\n",
       "      <td>3633.73</td>\n",
       "    </tr>\n",
       "    <tr>\n",
       "      <th>1</th>\n",
       "      <td>Mean absolute error</td>\n",
       "      <td>12242.79</td>\n",
       "      <td>22016.10</td>\n",
       "    </tr>\n",
       "    <tr>\n",
       "      <th>2</th>\n",
       "      <td>Mean squared error</td>\n",
       "      <td>403478175.41</td>\n",
       "      <td>806711130.85</td>\n",
       "    </tr>\n",
       "    <tr>\n",
       "      <th>3</th>\n",
       "      <td>Root mean squared error</td>\n",
       "      <td>20086.77</td>\n",
       "      <td>28402.66</td>\n",
       "    </tr>\n",
       "    <tr>\n",
       "      <th>4</th>\n",
       "      <td>Mean absolute percentual error</td>\n",
       "      <td>33.70</td>\n",
       "      <td>29.32</td>\n",
       "    </tr>\n",
       "    <tr>\n",
       "      <th>5</th>\n",
       "      <td>R2</td>\n",
       "      <td>0.64</td>\n",
       "      <td>0.14</td>\n",
       "    </tr>\n",
       "  </tbody>\n",
       "</table>\n",
       "</div>"
      ],
      "text/plain": [
       "                     Error_metric        Train         Test\n",
       "0                      Mean error      2244.51      3633.73\n",
       "1             Mean absolute error     12242.79     22016.10\n",
       "2              Mean squared error 403478175.41 806711130.85\n",
       "3         Root mean squared error     20086.77     28402.66\n",
       "4  Mean absolute percentual error        33.70        29.32\n",
       "5                              R2         0.64         0.14"
      ]
     },
     "execution_count": 50,
     "metadata": {},
     "output_type": "execute_result"
    }
   ],
   "source": [
    "y_train_performance_grid_gradient = np.array(y_train).reshape(-1,1)\n",
    "y_test_performance_grid_gradient  = np.array(y_test).reshape(-1,1)\n",
    "\n",
    "results_grid_gradient, df1_grid_gradient, df2_grid_gradient = fn.model_performance(y_train_performance_grid_gradient, \n",
    "                                                                                   y_pred_train_grid_gradient, \n",
    "                                                                                   y_test_performance_grid_gradient, \n",
    "                                                                                   y_pred_test_grid_gradient)\n",
    "results_grid_gradient"
   ]
  },
  {
   "cell_type": "markdown",
   "id": "130f1b61",
   "metadata": {},
   "source": [
    "**The best model has been obtained through GridSearchCV and is: RandomForestRegressor(max_depth=10, max_features='auto', min_samples_leaf=2,n_estimators=150)**"
   ]
  },
  {
   "cell_type": "markdown",
   "id": "3eaf3752",
   "metadata": {},
   "source": [
    "## To use SHAP for the best model"
   ]
  },
  {
   "cell_type": "code",
   "execution_count": 52,
   "id": "f6202c58",
   "metadata": {},
   "outputs": [
    {
     "name": "stderr",
     "output_type": "stream",
     "text": [
      "Permutation explainer: 219it [01:48,  1.93it/s]                                                                        \n"
     ]
    }
   ],
   "source": [
    "# Fits the explainer\n",
    "explainer = shap.Explainer(top_grid_forest.predict, X_test)\n",
    "# Calculates the SHAP values - It takes some time\n",
    "shap_values = explainer(X_test)"
   ]
  },
  {
   "cell_type": "code",
   "execution_count": 65,
   "id": "c1cc3e1e",
   "metadata": {},
   "outputs": [
    {
     "data": {
      "image/png": "[encoded data removed]",
      "text/plain": [
       "<Figure size 800x650 with 1 Axes>"
      ]
     },
     "metadata": {},
     "output_type": "display_data"
    }
   ],
   "source": [
    "shap.plots.bar(shap_values, show=False)\n",
    "plt.savefig(config['images']+'shap_bar_transp.png', dpi=300, transparent=True)\n",
    "plt.savefig(config['images']+'shap_bar.png', dpi=300)\n",
    "plt.show()"
   ]
  },
  {
   "cell_type": "code",
   "execution_count": 66,
   "id": "c25595e6",
   "metadata": {},
   "outputs": [
    {
     "data": {
      "image/png": "[encoded data removed]",
      "text/plain": [
       "<Figure size 800x550 with 2 Axes>"
      ]
     },
     "metadata": {},
     "output_type": "display_data"
    }
   ],
   "source": [
    "shap.plots.beeswarm(shap_values, show=False)\n",
    "plt.savefig(config['images']+'shap_bee_transp.png', dpi=300, transparent=True)\n",
    "plt.savefig(config['images']+'shap_bee.png', dpi=300)\n",
    "plt.show()"
   ]
  }
 ],
 "metadata": {
  "kernelspec": {
   "display_name": "venv_final_project",
   "language": "python",
   "name": "venv_final_project"
  },
  "language_info": {
   "codemirror_mode": {
    "name": "ipython",
    "version": 3
   },
   "file_extension": ".py",
   "mimetype": "text/x-python",
   "name": "python",
   "nbconvert_exporter": "python",
   "pygments_lexer": "ipython3",
   "version": "3.9.13"
  }
 },
 "nbformat": 4,
 "nbformat_minor": 5
}
